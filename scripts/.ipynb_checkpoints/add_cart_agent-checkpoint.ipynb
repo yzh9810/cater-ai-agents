{
 "cells": [
  {
   "cell_type": "code",
   "execution_count": 10,
   "id": "4a15f437",
   "metadata": {},
   "outputs": [
    {
     "name": "stdout",
     "output_type": "stream",
     "text": [
      "The autoreload extension is already loaded. To reload it, use:\n",
      "  %reload_ext autoreload\n"
     ]
    }
   ],
   "source": [
    "%load_ext autoreload\n",
    "%autoreload 2\n",
    "\n",
    "import sys\n",
    "sys.path.append(\"C:/Users/yuezo/OneDrive/桌面/project/cater-ai-agents/models/LCEL_agent\")\n",
    "sys.path.append(\"C:/Users/yuezo/OneDrive/桌面/project/cater-ai-agents/models/LCEL_engine\")\n",
    "sys.path.append(\"C:/Users/yuezo/OneDrive/桌面/project/cater-ai-agents/models/Menu_Retriever\")\n",
    "import nest_asyncio\n",
    "from adding_cart_agent import *\n",
    "from search_engine import *\n",
    "from search_engine import *\n",
    "from menu_retriever import *\n",
    "import os\n",
    "nest_asyncio.apply()\n",
    "\n",
    "os.environ[\"LANGCHAIN_TRACING_V2\"] = \"true\"\n",
    "os.environ[\"LANGCHAIN_API_KEY\"] = \"ls__e33af7b422394942b1ca565215fd1b92\"\n",
    "os.environ[\"OPENAI_API_KEY\"] = \"sk-proj-ZTDqjSnvRZvNPIodhtrVT3BlbkFJmmAh9jhzlOOiAinYm4FX\""
   ]
  },
  {
   "cell_type": "code",
   "execution_count": 11,
   "id": "674f95bc",
   "metadata": {},
   "outputs": [
    {
     "data": {
      "text/plain": [
       "<adding_cart_agent.AddCartAgent at 0x1bce5176fb0>"
      ]
     },
     "execution_count": 11,
     "metadata": {},
     "output_type": "execute_result"
    }
   ],
   "source": [
    "agent = AddCartAgent(\"C:/Users/yuezo/OneDrive/桌面/project/cater-ai-agents/scripts/example.cfg\")\n",
    "agent"
   ]
  },
  {
   "cell_type": "code",
   "execution_count": null,
   "id": "524b493b",
   "metadata": {},
   "outputs": [
    {
     "name": "stdout",
     "output_type": "stream",
     "text": [
      "\n",
      "\n",
      "\u001b[1m> Entering new AgentExecutor chain...\u001b[0m\n",
      "\u001b[32;1m\u001b[1;3m\n",
      "Invoking: `add_item_cart` with `{'cartId': 0, 'item': 'diet coke', 'modifications': [], 'quantity': 1}`\n",
      "\n",
      "\n",
      "\u001b[0mError: cartId 0 not found in cache\n",
      "-----------------search_items_by_similiarity-----------------\n",
      "for async elapsed_time =  1.9705243001226336\n",
      "\u001b[38;5;200m\u001b[1;3m{'status': 'not_found', 'user_input': 'diet coke'}\u001b[0m"
     ]
    }
   ],
   "source": [
    "agent.run_agent(\"I confirmed to add diet coke into cart\")"
   ]
  },
  {
   "cell_type": "code",
   "execution_count": 4,
   "id": "41cbad5b",
   "metadata": {},
   "outputs": [
    {
     "name": "stdout",
     "output_type": "stream",
     "text": [
      "\n",
      "\n",
      "\u001b[1m> Entering new AgentExecutor chain...\u001b[0m\n",
      "\u001b[32;1m\u001b[1;3m{\n",
      "    \"type\": \"exit_topic\",\n",
      "    \"data\": {\n",
      "        \"user_message\": \"hello??\"\n",
      "    }\n",
      "}\u001b[0m\n",
      "\n",
      "\u001b[1m> Finished chain.\u001b[0m\n",
      "Add Cart Agent:  {'type': 'exit_topic', 'data': {'user_message': 'hello??'}}\n"
     ]
    },
    {
     "data": {
      "text/plain": [
       "('{\\n    \"type\": \"exit_topic\",\\n    \"data\": {\\n        \"user_message\": \"hello??\"\\n    }\\n}',\n",
       " {'type': 'exit_topic', 'data': {'user_message': 'hello??'}})"
      ]
     },
     "execution_count": 4,
     "metadata": {},
     "output_type": "execute_result"
    }
   ],
   "source": [
    "agent.run_agent(\"hello??\")"
   ]
  },
  {
   "cell_type": "code",
   "execution_count": 5,
   "id": "9ba9b822",
   "metadata": {},
   "outputs": [
    {
     "name": "stdout",
     "output_type": "stream",
     "text": [
      "\n",
      "\n",
      "\u001b[1m> Entering new AgentExecutor chain...\u001b[0m\n",
      "\u001b[32;1m\u001b[1;3m\n",
      "Invoking: `match_item` with `{'item': 'milk tea with boba', 'modifications': [], 'quantity': 1}`\n",
      "\n",
      "\n",
      "\u001b[0m-----------------search_items_by_similiarity-----------------\n",
      "item selected item =  B1 Signature Boba Milk Tea  call match_modifications\n",
      "\u001b[36;1m\u001b[1;3m{'status': 'selected', 'user_input': 'B1 Signature Boba Milk Tea', 'item_info': {'item': 'B1 Signature Boba Milk Tea', 'user_requested_item': 'B1 Signature Boba Milk Tea', 'description': 'B1 Signature Boba Milk Tea', 'quantity': 1}, 'modifications_info': {'status': 'missing', 'selected_modifications': [], 'missing_modifications': [{'name': 'Sugar', 'description': 'Adjusts sweetness level.'}, {'name': 'Ice', 'description': 'Controls ice amount.'}], 'unclear_modifications': [], 'nonfound_modifications': []}}\u001b[0m\u001b[32;1m\u001b[1;3m{\n",
      "    \"type\": \"item_selection_miss_modifications\",\n",
      "    \"data\": {\n",
      "        \"message\": \"We have successfully located the B1 Signature Boba Milk Tea in our menu. However, there seems to be a requirement for Sugar and Ice that wasn't initially specified. Could you please provide more details on these required modifications?\",\n",
      "        \"item_info\": {\n",
      "            \"item\": \"B1 Signature Boba Milk Tea\",\n",
      "            \"user_requested_item\": \"B1 Signature Boba Milk Tea\",\n",
      "            \"description\": \"B1 Signature Boba Milk Tea\",\n",
      "            \"quantity\": 1\n",
      "        },\n",
      "        \"modification_info\": {\n",
      "            \"modification_status\": \"missing\",\n",
      "            \"selected_modifications\": [],\n",
      "            \"missing_modifications\": [\n",
      "                {\n",
      "                    \"name\": \"Sugar\",\n",
      "                    \"description\": \"Adjusts sweetness level.\"\n",
      "                },\n",
      "                {\n",
      "                    \"name\": \"Ice\",\n",
      "                    \"description\": \"Controls ice amount.\"\n",
      "                }\n",
      "            ],\n",
      "            \"unclear_modifications\": [],\n",
      "            \"nonfound_modifications\": []\n",
      "        }\n",
      "    }\n",
      "}\u001b[0m\n",
      "\n",
      "\u001b[1m> Finished chain.\u001b[0m\n",
      "Add Cart Agent:  {'type': 'item_selection_miss_modifications', 'data': {'message': \"We have successfully located the B1 Signature Boba Milk Tea in our menu. However, there seems to be a requirement for Sugar and Ice that wasn't initially specified. Could you please provide more details on these required modifications?\", 'item_info': {'item': 'B1 Signature Boba Milk Tea', 'user_requested_item': 'B1 Signature Boba Milk Tea', 'description': 'B1 Signature Boba Milk Tea', 'quantity': 1}, 'modification_info': {'modification_status': 'missing', 'selected_modifications': [], 'missing_modifications': [{'name': 'Sugar', 'description': 'Adjusts sweetness level.'}, {'name': 'Ice', 'description': 'Controls ice amount.'}], 'unclear_modifications': [], 'nonfound_modifications': []}}}\n"
     ]
    },
    {
     "data": {
      "text/plain": [
       "('{\\n    \"type\": \"item_selection_miss_modifications\",\\n    \"data\": {\\n        \"message\": \"We have successfully located the B1 Signature Boba Milk Tea in our menu. However, there seems to be a requirement for Sugar and Ice that wasn\\'t initially specified. Could you please provide more details on these required modifications?\",\\n        \"item_info\": {\\n            \"item\": \"B1 Signature Boba Milk Tea\",\\n            \"user_requested_item\": \"B1 Signature Boba Milk Tea\",\\n            \"description\": \"B1 Signature Boba Milk Tea\",\\n            \"quantity\": 1\\n        },\\n        \"modification_info\": {\\n            \"modification_status\": \"missing\",\\n            \"selected_modifications\": [],\\n            \"missing_modifications\": [\\n                {\\n                    \"name\": \"Sugar\",\\n                    \"description\": \"Adjusts sweetness level.\"\\n                },\\n                {\\n                    \"name\": \"Ice\",\\n                    \"description\": \"Controls ice amount.\"\\n                }\\n            ],\\n            \"unclear_modifications\": [],\\n            \"nonfound_modifications\": []\\n        }\\n    }\\n}',\n",
       " {'type': 'item_selection_miss_modifications',\n",
       "  'data': {'message': \"We have successfully located the B1 Signature Boba Milk Tea in our menu. However, there seems to be a requirement for Sugar and Ice that wasn't initially specified. Could you please provide more details on these required modifications?\",\n",
       "   'item_info': {'item': 'B1 Signature Boba Milk Tea',\n",
       "    'user_requested_item': 'B1 Signature Boba Milk Tea',\n",
       "    'description': 'B1 Signature Boba Milk Tea',\n",
       "    'quantity': 1},\n",
       "   'modification_info': {'modification_status': 'missing',\n",
       "    'selected_modifications': [],\n",
       "    'missing_modifications': [{'name': 'Sugar',\n",
       "      'description': 'Adjusts sweetness level.'},\n",
       "     {'name': 'Ice', 'description': 'Controls ice amount.'}],\n",
       "    'unclear_modifications': [],\n",
       "    'nonfound_modifications': []}}})"
      ]
     },
     "execution_count": 5,
     "metadata": {},
     "output_type": "execute_result"
    }
   ],
   "source": [
    "agent.run_agent(\"i want to order a milk tea with boba\")"
   ]
  },
  {
   "cell_type": "code",
   "execution_count": 6,
   "id": "66a41c96",
   "metadata": {},
   "outputs": [
    {
     "name": "stdout",
     "output_type": "stream",
     "text": [
      "\n",
      "\n",
      "\u001b[1m> Entering new AgentExecutor chain...\u001b[0m\n",
      "\u001b[32;1m\u001b[1;3m\n",
      "Invoking: `match_modifications` with `{'item': 'B1 Signature Boba Milk Tea', 'modifications': ['half sugar', 'no ice', 'large size', 'add pudding'], 'quantity': 1}`\n",
      "\n",
      "\n",
      "\u001b[0m-----------------search_modification_name_by_similiarity-----------------\n",
      "modification = half sugar, name_response = {'status': 'selected', 'option': {'name': 'Sugar', 'description': 'Adjusts sweetness level.'}}/n\n",
      "-----------------search_modification_specs_by_similiarity-----------------\n",
      "modification = half sugar, spec_response = {'status': 'selected', 'option': {'name': '50% Sugar', 'description': 'half sugar'}}/n\n",
      "-----------------search_modification_name_by_similiarity-----------------\n",
      "modification = no ice, name_response = {'status': 'selected', 'option': {'name': 'Ice', 'description': 'Controls ice amount.'}}/n\n",
      "-----------------search_modification_specs_by_similiarity-----------------\n",
      "modification = no ice, spec_response = {'status': 'selected', 'option': {'name': '0% Ice', 'description': 'No ice'}}/n\n",
      "-----------------search_modification_name_by_similiarity-----------------\n",
      "modification = large size, name_response = {'status': 'not_found'}/n\n",
      "-----------------search_modification_name_by_similiarity-----------------\n",
      "modification = add pudding, name_response = {'status': 'need_details', 'options': [{'name': 'Mango Pudding', 'description': 'Creamy mango-flavored dessert.'}, {'name': 'Egg Pudding', 'description': 'Silky custard pudding.'}, {'name': 'Matcha Pudding', 'description': 'Green tea-flavored pudding.'}]}/n\n",
      "\u001b[33;1m\u001b[1;3m{'status': 'selected', 'user_input': 'B1 Signature Boba Milk Tea', 'item_info': {'item': 'B1 Signature Boba Milk Tea', 'user_requested_item': 'B1 Signature Boba Milk Tea', 'description': 'B1 Signature Boba Milk Tea', 'quantity': 1}, 'modifications_info': {'status': 'missing', 'selected_modifications': [{'user_requested_modification': 'half sugar', 'name': 'Sugar', 'description': '50% Sugar'}, {'user_requested_modification': 'no ice', 'name': 'Ice', 'description': '0% Ice'}], 'missing_modifications': [], 'unclear_modifications': [{'user_requested_modification': 'add pudding', 'modification_options': [{'name': 'Mango Pudding', 'description': 'Creamy mango-flavored dessert.'}, {'name': 'Egg Pudding', 'description': 'Silky custard pudding.'}, {'name': 'Matcha Pudding', 'description': 'Green tea-flavored pudding.'}]}], 'nonfound_modifications': [{'user_requested_modification': 'large size'}]}}\u001b[0m\u001b[32;1m\u001b[1;3m{\n",
      "    \"type\": \"item_selection_miss_modifications\",\n",
      "    \"data\": {\n",
      "        \"message\": \"We have successfully located the B1 Signature Boba Milk Tea in our menu with half sugar and no ice. However, we couldn't locate 'large size'. Also, for 'add pudding', could you please specify which one you prefer? Options include Mango Pudding, Egg Pudding, or Matcha Pudding.\",\n",
      "        \"item_info\": {\n",
      "            \"item\": \"B1 Signature Boba Milk Tea\",\n",
      "            \"user_requested_item\": \"B1 Signature Boba Milk Tea\",\n",
      "            \"description\": \"B1 Signature Boba Milk Tea\",\n",
      "            \"quantity\": 1\n",
      "        },\n",
      "        \"modification_info\": {\n",
      "            \"modification_status\": \"missing\",\n",
      "            \"selected_modifications\": [\n",
      "                {\n",
      "                    \"user_requested_modification\": \"half sugar\",\n",
      "                    \"name\": \"Sugar\",\n",
      "                    \"description\": \"50% Sugar\"\n",
      "                },\n",
      "                {\n",
      "                    \"user_requested_modification\": \"no ice\",\n",
      "                    \"name\": \"Ice\",\n",
      "                    \"description\": \"0% Ice\"\n",
      "                }\n",
      "            ],\n",
      "            \"missing_modifications\": [],\n",
      "            \"unclear_modifications\": [\n",
      "                {\n",
      "                    \"user_requested_modification\": \"add pudding\",\n",
      "                    \"modification_options\": [\n",
      "                        {\n",
      "                            \"name\": \"Mango Pudding\",\n",
      "                            \"description\": \"Creamy mango-flavored dessert.\"\n",
      "                        },\n",
      "                        {\n",
      "                            \"name\": \"Egg Pudding\",\n",
      "                            \"description\": \"Silky custard pudding.\"\n",
      "                        },\n",
      "                        {\n",
      "                            \"name\": \"Matcha Pudding\",\n",
      "                            \"description\": \"Green tea-flavored pudding.\"\n",
      "                        }\n",
      "                    ]\n",
      "                }\n",
      "            ],\n",
      "            \"nonfound_modifications\": [\n",
      "                {\n",
      "                    \"user_requested_modification\": \"large size\"\n",
      "                }\n",
      "            ]\n",
      "        }\n",
      "    }\n",
      "}\u001b[0m\n",
      "\n",
      "\u001b[1m> Finished chain.\u001b[0m\n",
      "Add Cart Agent:  {'type': 'item_selection_miss_modifications', 'data': {'message': \"We have successfully located the B1 Signature Boba Milk Tea in our menu with half sugar and no ice. However, we couldn't locate 'large size'. Also, for 'add pudding', could you please specify which one you prefer? Options include Mango Pudding, Egg Pudding, or Matcha Pudding.\", 'item_info': {'item': 'B1 Signature Boba Milk Tea', 'user_requested_item': 'B1 Signature Boba Milk Tea', 'description': 'B1 Signature Boba Milk Tea', 'quantity': 1}, 'modification_info': {'modification_status': 'missing', 'selected_modifications': [{'user_requested_modification': 'half sugar', 'name': 'Sugar', 'description': '50% Sugar'}, {'user_requested_modification': 'no ice', 'name': 'Ice', 'description': '0% Ice'}], 'missing_modifications': [], 'unclear_modifications': [{'user_requested_modification': 'add pudding', 'modification_options': [{'name': 'Mango Pudding', 'description': 'Creamy mango-flavored dessert.'}, {'name': 'Egg Pudding', 'description': 'Silky custard pudding.'}, {'name': 'Matcha Pudding', 'description': 'Green tea-flavored pudding.'}]}], 'nonfound_modifications': [{'user_requested_modification': 'large size'}]}}}\n"
     ]
    },
    {
     "data": {
      "text/plain": [
       "('{\\n    \"type\": \"item_selection_miss_modifications\",\\n    \"data\": {\\n        \"message\": \"We have successfully located the B1 Signature Boba Milk Tea in our menu with half sugar and no ice. However, we couldn\\'t locate \\'large size\\'. Also, for \\'add pudding\\', could you please specify which one you prefer? Options include Mango Pudding, Egg Pudding, or Matcha Pudding.\",\\n        \"item_info\": {\\n            \"item\": \"B1 Signature Boba Milk Tea\",\\n            \"user_requested_item\": \"B1 Signature Boba Milk Tea\",\\n            \"description\": \"B1 Signature Boba Milk Tea\",\\n            \"quantity\": 1\\n        },\\n        \"modification_info\": {\\n            \"modification_status\": \"missing\",\\n            \"selected_modifications\": [\\n                {\\n                    \"user_requested_modification\": \"half sugar\",\\n                    \"name\": \"Sugar\",\\n                    \"description\": \"50% Sugar\"\\n                },\\n                {\\n                    \"user_requested_modification\": \"no ice\",\\n                    \"name\": \"Ice\",\\n                    \"description\": \"0% Ice\"\\n                }\\n            ],\\n            \"missing_modifications\": [],\\n            \"unclear_modifications\": [\\n                {\\n                    \"user_requested_modification\": \"add pudding\",\\n                    \"modification_options\": [\\n                        {\\n                            \"name\": \"Mango Pudding\",\\n                            \"description\": \"Creamy mango-flavored dessert.\"\\n                        },\\n                        {\\n                            \"name\": \"Egg Pudding\",\\n                            \"description\": \"Silky custard pudding.\"\\n                        },\\n                        {\\n                            \"name\": \"Matcha Pudding\",\\n                            \"description\": \"Green tea-flavored pudding.\"\\n                        }\\n                    ]\\n                }\\n            ],\\n            \"nonfound_modifications\": [\\n                {\\n                    \"user_requested_modification\": \"large size\"\\n                }\\n            ]\\n        }\\n    }\\n}',\n",
       " {'type': 'item_selection_miss_modifications',\n",
       "  'data': {'message': \"We have successfully located the B1 Signature Boba Milk Tea in our menu with half sugar and no ice. However, we couldn't locate 'large size'. Also, for 'add pudding', could you please specify which one you prefer? Options include Mango Pudding, Egg Pudding, or Matcha Pudding.\",\n",
       "   'item_info': {'item': 'B1 Signature Boba Milk Tea',\n",
       "    'user_requested_item': 'B1 Signature Boba Milk Tea',\n",
       "    'description': 'B1 Signature Boba Milk Tea',\n",
       "    'quantity': 1},\n",
       "   'modification_info': {'modification_status': 'missing',\n",
       "    'selected_modifications': [{'user_requested_modification': 'half sugar',\n",
       "      'name': 'Sugar',\n",
       "      'description': '50% Sugar'},\n",
       "     {'user_requested_modification': 'no ice',\n",
       "      'name': 'Ice',\n",
       "      'description': '0% Ice'}],\n",
       "    'missing_modifications': [],\n",
       "    'unclear_modifications': [{'user_requested_modification': 'add pudding',\n",
       "      'modification_options': [{'name': 'Mango Pudding',\n",
       "        'description': 'Creamy mango-flavored dessert.'},\n",
       "       {'name': 'Egg Pudding', 'description': 'Silky custard pudding.'},\n",
       "       {'name': 'Matcha Pudding',\n",
       "        'description': 'Green tea-flavored pudding.'}]}],\n",
       "    'nonfound_modifications': [{'user_requested_modification': 'large size'}]}}})"
      ]
     },
     "execution_count": 6,
     "metadata": {},
     "output_type": "execute_result"
    }
   ],
   "source": [
    "agent.run_agent(\"i want B1 Signature Boba Milk Tea with half sugar, no ice, large size and add pudding\")"
   ]
  },
  {
   "cell_type": "code",
   "execution_count": 7,
   "id": "1dc4c4bd",
   "metadata": {},
   "outputs": [
    {
     "name": "stdout",
     "output_type": "stream",
     "text": [
      "\n",
      "\n",
      "\u001b[1m> Entering new AgentExecutor chain...\u001b[0m\n",
      "\u001b[32;1m\u001b[1;3m{\n",
      "    \"type\": \"item_selection_completed\",\n",
      "    \"data\": {\n",
      "        \"message\": \"We have successfully found the B1 Signature Boba Milk Tea with half sugar, no ice, and Mango Pudding in our menu. Would you like to add this item to your cart?\",\n",
      "        \"item_info\": {\n",
      "            \"item\": \"B1 Signature Boba Milk Tea\",\n",
      "            \"user_requested_item\": \"B1 Signature Boba Milk Tea\",\n",
      "            \"description\": \"B1 Signature Boba Milk Tea with half sugar, no ice, and Mango Pudding\",\n",
      "            \"quantity\": 1\n",
      "        },\n",
      "        \"modification_info\": {\n",
      "            \"modification_status\": \"completed\",\n",
      "            \"selected_modifications\": [\n",
      "                {\n",
      "                    \"user_requested_modification\": \"half sugar\",\n",
      "                    \"name\": \"Sugar\",\n",
      "                    \"description\": \"50% Sugar\"\n",
      "                },\n",
      "                {\n",
      "                    \"user_requested_modification\": \"no ice\",\n",
      "                    \"name\": \"Ice\",\n",
      "                    \"description\": \"0% Ice\"\n",
      "                },\n",
      "                {\n",
      "                    \"user_requested_modification\": \"add mango pudding\",\n",
      "                    \"name\": \"Mango Pudding\",\n",
      "                    \"description\": \"Creamy mango-flavored dessert.\"\n",
      "                }\n",
      "            ]\n",
      "        }\n",
      "    }\n",
      "}\u001b[0m\n",
      "\n",
      "\u001b[1m> Finished chain.\u001b[0m\n",
      "Add Cart Agent:  {'type': 'item_selection_completed', 'data': {'message': 'We have successfully found the B1 Signature Boba Milk Tea with half sugar, no ice, and Mango Pudding in our menu. Would you like to add this item to your cart?', 'item_info': {'item': 'B1 Signature Boba Milk Tea', 'user_requested_item': 'B1 Signature Boba Milk Tea', 'description': 'B1 Signature Boba Milk Tea with half sugar, no ice, and Mango Pudding', 'quantity': 1}, 'modification_info': {'modification_status': 'completed', 'selected_modifications': [{'user_requested_modification': 'half sugar', 'name': 'Sugar', 'description': '50% Sugar'}, {'user_requested_modification': 'no ice', 'name': 'Ice', 'description': '0% Ice'}, {'user_requested_modification': 'add mango pudding', 'name': 'Mango Pudding', 'description': 'Creamy mango-flavored dessert.'}]}}}\n"
     ]
    },
    {
     "data": {
      "text/plain": [
       "('{\\n    \"type\": \"item_selection_completed\",\\n    \"data\": {\\n        \"message\": \"We have successfully found the B1 Signature Boba Milk Tea with half sugar, no ice, and Mango Pudding in our menu. Would you like to add this item to your cart?\",\\n        \"item_info\": {\\n            \"item\": \"B1 Signature Boba Milk Tea\",\\n            \"user_requested_item\": \"B1 Signature Boba Milk Tea\",\\n            \"description\": \"B1 Signature Boba Milk Tea with half sugar, no ice, and Mango Pudding\",\\n            \"quantity\": 1\\n        },\\n        \"modification_info\": {\\n            \"modification_status\": \"completed\",\\n            \"selected_modifications\": [\\n                {\\n                    \"user_requested_modification\": \"half sugar\",\\n                    \"name\": \"Sugar\",\\n                    \"description\": \"50% Sugar\"\\n                },\\n                {\\n                    \"user_requested_modification\": \"no ice\",\\n                    \"name\": \"Ice\",\\n                    \"description\": \"0% Ice\"\\n                },\\n                {\\n                    \"user_requested_modification\": \"add mango pudding\",\\n                    \"name\": \"Mango Pudding\",\\n                    \"description\": \"Creamy mango-flavored dessert.\"\\n                }\\n            ]\\n        }\\n    }\\n}',\n",
       " {'type': 'item_selection_completed',\n",
       "  'data': {'message': 'We have successfully found the B1 Signature Boba Milk Tea with half sugar, no ice, and Mango Pudding in our menu. Would you like to add this item to your cart?',\n",
       "   'item_info': {'item': 'B1 Signature Boba Milk Tea',\n",
       "    'user_requested_item': 'B1 Signature Boba Milk Tea',\n",
       "    'description': 'B1 Signature Boba Milk Tea with half sugar, no ice, and Mango Pudding',\n",
       "    'quantity': 1},\n",
       "   'modification_info': {'modification_status': 'completed',\n",
       "    'selected_modifications': [{'user_requested_modification': 'half sugar',\n",
       "      'name': 'Sugar',\n",
       "      'description': '50% Sugar'},\n",
       "     {'user_requested_modification': 'no ice',\n",
       "      'name': 'Ice',\n",
       "      'description': '0% Ice'},\n",
       "     {'user_requested_modification': 'add mango pudding',\n",
       "      'name': 'Mango Pudding',\n",
       "      'description': 'Creamy mango-flavored dessert.'}]}}})"
      ]
     },
     "execution_count": 7,
     "metadata": {},
     "output_type": "execute_result"
    }
   ],
   "source": [
    "agent.run_agent(\"ok, just add mongo pudding\")"
   ]
  },
  {
   "cell_type": "code",
   "execution_count": 8,
   "id": "b5022357",
   "metadata": {},
   "outputs": [
    {
     "name": "stdout",
     "output_type": "stream",
     "text": [
      "\n",
      "\n",
      "\u001b[1m> Entering new AgentExecutor chain...\u001b[0m\n",
      "\u001b[32;1m\u001b[1;3m{\n",
      "    \"type\": \"confirmed_add_cart\",\n",
      "    \"data\": {\n",
      "        \"message\": \"I have added B1 Signature Boba Milk Tea, including half sugar, no ice, and Mango Pudding, in a quantity of 1 to your cart. Would you like to proceed with placing your order?\",\n",
      "        \"cart_info\": [\n",
      "            {\n",
      "                \"item_info\": {\n",
      "                    \"item\": \"B1 Signature Boba Milk Tea\",\n",
      "                    \"description\": \"B1 Signature Boba Milk Tea with half sugar, no ice, and Mango Pudding\",\n",
      "                    \"quantity\": 1\n",
      "                },\n",
      "                \"selected_modifications\": [\n",
      "                    {\n",
      "                        \"name\": \"Sugar\",\n",
      "                        \"description\": \"50% Sugar\"\n",
      "                    },\n",
      "                    {\n",
      "                        \"name\": \"Ice\",\n",
      "                        \"description\": \"0% Ice\"\n",
      "                    },\n",
      "                    {\n",
      "                        \"name\": \"Mango Pudding\",\n",
      "                        \"description\": \"Creamy mango-flavored dessert.\"\n",
      "                    }\n",
      "                ]\n",
      "            }\n",
      "        ]\n",
      "    }\n",
      "}\u001b[0m\n",
      "\n",
      "\u001b[1m> Finished chain.\u001b[0m\n",
      "Add Cart Agent:  {'type': 'confirmed_add_cart', 'data': {'message': 'I have added B1 Signature Boba Milk Tea, including half sugar, no ice, and Mango Pudding, in a quantity of 1 to your cart. Would you like to proceed with placing your order?', 'cart_info': [{'item_info': {'item': 'B1 Signature Boba Milk Tea', 'description': 'B1 Signature Boba Milk Tea with half sugar, no ice, and Mango Pudding', 'quantity': 1}, 'selected_modifications': [{'name': 'Sugar', 'description': '50% Sugar'}, {'name': 'Ice', 'description': '0% Ice'}, {'name': 'Mango Pudding', 'description': 'Creamy mango-flavored dessert.'}]}]}}\n"
     ]
    },
    {
     "data": {
      "text/plain": [
       "('{\\n    \"type\": \"confirmed_add_cart\",\\n    \"data\": {\\n        \"message\": \"I have added B1 Signature Boba Milk Tea, including half sugar, no ice, and Mango Pudding, in a quantity of 1 to your cart. Would you like to proceed with placing your order?\",\\n        \"cart_info\": [\\n            {\\n                \"item_info\": {\\n                    \"item\": \"B1 Signature Boba Milk Tea\",\\n                    \"description\": \"B1 Signature Boba Milk Tea with half sugar, no ice, and Mango Pudding\",\\n                    \"quantity\": 1\\n                },\\n                \"selected_modifications\": [\\n                    {\\n                        \"name\": \"Sugar\",\\n                        \"description\": \"50% Sugar\"\\n                    },\\n                    {\\n                        \"name\": \"Ice\",\\n                        \"description\": \"0% Ice\"\\n                    },\\n                    {\\n                        \"name\": \"Mango Pudding\",\\n                        \"description\": \"Creamy mango-flavored dessert.\"\\n                    }\\n                ]\\n            }\\n        ]\\n    }\\n}',\n",
       " {'type': 'confirmed_add_cart',\n",
       "  'data': {'message': 'I have added B1 Signature Boba Milk Tea, including half sugar, no ice, and Mango Pudding, in a quantity of 1 to your cart. Would you like to proceed with placing your order?',\n",
       "   'cart_info': [{'item_info': {'item': 'B1 Signature Boba Milk Tea',\n",
       "      'description': 'B1 Signature Boba Milk Tea with half sugar, no ice, and Mango Pudding',\n",
       "      'quantity': 1},\n",
       "     'selected_modifications': [{'name': 'Sugar', 'description': '50% Sugar'},\n",
       "      {'name': 'Ice', 'description': '0% Ice'},\n",
       "      {'name': 'Mango Pudding',\n",
       "       'description': 'Creamy mango-flavored dessert.'}]}]}})"
      ]
     },
     "execution_count": 8,
     "metadata": {},
     "output_type": "execute_result"
    }
   ],
   "source": [
    "agent.run_agent(\"ok, no need large size, just the boba milk tea\")"
   ]
  },
  {
   "cell_type": "code",
   "execution_count": 9,
   "id": "188c8b63",
   "metadata": {},
   "outputs": [
    {
     "name": "stdout",
     "output_type": "stream",
     "text": [
      "\n",
      "\n",
      "\u001b[1m> Entering new AgentExecutor chain...\u001b[0m\n",
      "\u001b[32;1m\u001b[1;3m{\n",
      "    \"type\": \"place_items\",\n",
      "    \"data\": {\n",
      "        \"message\": \"We will start to place all your order in the cart!\"\n",
      "    }\n",
      "}\u001b[0m\n",
      "\n",
      "\u001b[1m> Finished chain.\u001b[0m\n",
      "Add Cart Agent:  {'type': 'place_items', 'data': {'message': 'We will start to place all your order in the cart!'}}\n"
     ]
    },
    {
     "data": {
      "text/plain": [
       "('{\\n    \"type\": \"place_items\",\\n    \"data\": {\\n        \"message\": \"We will start to place all your order in the cart!\"\\n    }\\n}',\n",
       " {'type': 'place_items',\n",
       "  'data': {'message': 'We will start to place all your order in the cart!'}})"
      ]
     },
     "execution_count": 9,
     "metadata": {},
     "output_type": "execute_result"
    }
   ],
   "source": [
    "agent.run_agent(\"yes, place the order\")"
   ]
  },
  {
   "cell_type": "code",
   "execution_count": 10,
   "id": "3cba1dec",
   "metadata": {},
   "outputs": [
    {
     "name": "stdout",
     "output_type": "stream",
     "text": [
      "\n",
      "\n",
      "\u001b[1m> Entering new AgentExecutor chain...\u001b[0m\n",
      "\u001b[32;1m\u001b[1;3m\n",
      "Invoking: `match_item` with `{'item': 'rice bowl with meat', 'modifications': [], 'quantity': 1}`\n",
      "\n",
      "\n",
      "\u001b[0m-----------------search_items_by_similiarity-----------------\n",
      "\u001b[36;1m\u001b[1;3m{'status': 'need_details', 'user_input': 'rice bowl with meat', 'options': [{'name': 'Y32 Gyu Don', 'description': 'Rice bowl topped with beef.'}, {'name': 'Y33 Unagi Don', 'description': 'Rice bowl with grilled eel.'}]}\u001b[0m\u001b[32;1m\u001b[1;3m\n",
      "Invoking: `match_item` with `{'item': 'fried chicken', 'modifications': [], 'quantity': 1}`\n",
      "\n",
      "\n",
      "\u001b[0m-----------------search_items_by_similiarity-----------------\n",
      "\u001b[36;1m\u001b[1;3m{'status': 'need_details', 'user_input': 'fried chicken', 'options': [{'name': 'Y1 Basil Popcorn Chicken', 'description': 'Fried chicken with basil seasoning.'}, {'name': 'Y15 Fried Garlic Chicken Wings', 'description': 'Chicken wings with garlic flavor.'}]}\u001b[0m\u001b[32;1m\u001b[1;3m{\n",
      "    \"type\": \"item_selection_need_details\",\n",
      "    \"data\": {\n",
      "        \"message\": \"Based on your input for 'rice bowl with meat', I found multiple items in the menu, including Y32 Gyu Don (Rice bowl topped with beef) and Y33 Unagi Don (Rice bowl with grilled eel). For 'fried chicken', options include Y1 Basil Popcorn Chicken (Fried chicken with basil seasoning) and Y15 Fried Garlic Chicken Wings (Chicken wings with garlic flavor). Could you provide more details or specify the items you want to add to your cart?\",\n",
      "        \"options\": [\n",
      "            {\n",
      "                \"name\": \"Y32 Gyu Don\",\n",
      "                \"description\": \"Rice bowl topped with beef.\"\n",
      "            },\n",
      "            {\n",
      "                \"name\": \"Y33 Unagi Don\",\n",
      "                \"description\": \"Rice bowl with grilled eel.\"\n",
      "            },\n",
      "            {\n",
      "                \"name\": \"Y1 Basil Popcorn Chicken\",\n",
      "                \"description\": \"Fried chicken with basil seasoning.\"\n",
      "            },\n",
      "            {\n",
      "                \"name\": \"Y15 Fried Garlic Chicken Wings\",\n",
      "                \"description\": \"Chicken wings with garlic flavor.\"\n",
      "            }\n",
      "        ]\n",
      "    }\n",
      "}\u001b[0m\n",
      "\n",
      "\u001b[1m> Finished chain.\u001b[0m\n",
      "Add Cart Agent:  {'type': 'item_selection_need_details', 'data': {'message': \"Based on your input for 'rice bowl with meat', I found multiple items in the menu, including Y32 Gyu Don (Rice bowl topped with beef) and Y33 Unagi Don (Rice bowl with grilled eel). For 'fried chicken', options include Y1 Basil Popcorn Chicken (Fried chicken with basil seasoning) and Y15 Fried Garlic Chicken Wings (Chicken wings with garlic flavor). Could you provide more details or specify the items you want to add to your cart?\", 'options': [{'name': 'Y32 Gyu Don', 'description': 'Rice bowl topped with beef.'}, {'name': 'Y33 Unagi Don', 'description': 'Rice bowl with grilled eel.'}, {'name': 'Y1 Basil Popcorn Chicken', 'description': 'Fried chicken with basil seasoning.'}, {'name': 'Y15 Fried Garlic Chicken Wings', 'description': 'Chicken wings with garlic flavor.'}]}}\n"
     ]
    },
    {
     "data": {
      "text/plain": [
       "('{\\n    \"type\": \"item_selection_need_details\",\\n    \"data\": {\\n        \"message\": \"Based on your input for \\'rice bowl with meat\\', I found multiple items in the menu, including Y32 Gyu Don (Rice bowl topped with beef) and Y33 Unagi Don (Rice bowl with grilled eel). For \\'fried chicken\\', options include Y1 Basil Popcorn Chicken (Fried chicken with basil seasoning) and Y15 Fried Garlic Chicken Wings (Chicken wings with garlic flavor). Could you provide more details or specify the items you want to add to your cart?\",\\n        \"options\": [\\n            {\\n                \"name\": \"Y32 Gyu Don\",\\n                \"description\": \"Rice bowl topped with beef.\"\\n            },\\n            {\\n                \"name\": \"Y33 Unagi Don\",\\n                \"description\": \"Rice bowl with grilled eel.\"\\n            },\\n            {\\n                \"name\": \"Y1 Basil Popcorn Chicken\",\\n                \"description\": \"Fried chicken with basil seasoning.\"\\n            },\\n            {\\n                \"name\": \"Y15 Fried Garlic Chicken Wings\",\\n                \"description\": \"Chicken wings with garlic flavor.\"\\n            }\\n        ]\\n    }\\n}',\n",
       " {'type': 'item_selection_need_details',\n",
       "  'data': {'message': \"Based on your input for 'rice bowl with meat', I found multiple items in the menu, including Y32 Gyu Don (Rice bowl topped with beef) and Y33 Unagi Don (Rice bowl with grilled eel). For 'fried chicken', options include Y1 Basil Popcorn Chicken (Fried chicken with basil seasoning) and Y15 Fried Garlic Chicken Wings (Chicken wings with garlic flavor). Could you provide more details or specify the items you want to add to your cart?\",\n",
       "   'options': [{'name': 'Y32 Gyu Don',\n",
       "     'description': 'Rice bowl topped with beef.'},\n",
       "    {'name': 'Y33 Unagi Don', 'description': 'Rice bowl with grilled eel.'},\n",
       "    {'name': 'Y1 Basil Popcorn Chicken',\n",
       "     'description': 'Fried chicken with basil seasoning.'},\n",
       "    {'name': 'Y15 Fried Garlic Chicken Wings',\n",
       "     'description': 'Chicken wings with garlic flavor.'}]}})"
      ]
     },
     "execution_count": 10,
     "metadata": {},
     "output_type": "execute_result"
    }
   ],
   "source": [
    "agent.run_agent(\"i also want a rice bowl with some meat, also i want some fried chicken\")"
   ]
  },
  {
   "cell_type": "code",
   "execution_count": 11,
   "id": "4ca07a26",
   "metadata": {},
   "outputs": [
    {
     "name": "stdout",
     "output_type": "stream",
     "text": [
      "\n",
      "\n",
      "\u001b[1m> Entering new AgentExecutor chain...\u001b[0m\n",
      "\u001b[32;1m\u001b[1;3m\n",
      "Invoking: `match_item` with `{'item': 'Unagi Don', 'modifications': [], 'quantity': 1}`\n",
      "\n",
      "\n",
      "\u001b[0m-----------------search_items_by_similiarity-----------------\n",
      "item selected item =  Y33 Unagi Don  call match_modifications\n",
      "\u001b[36;1m\u001b[1;3m{'status': 'selected', 'user_input': 'Y33 Unagi Don', 'item_info': {'item': 'Y33 Unagi Don', 'user_requested_item': 'Y33 Unagi Don', 'description': 'Y33 Unagi Don', 'quantity': 1}, 'modifications_info': {'status': 'completed', 'selected_modifications': [], 'missing_modifications': [], 'unclear_modifications': [], 'nonfound_modifications': []}}\u001b[0m\u001b[32;1m\u001b[1;3m\n",
      "Invoking: `match_item` with `{'item': 'Y15 Fried Garlic Chicken Wings', 'modifications': [], 'quantity': 1}`\n",
      "\n",
      "\n",
      "\u001b[0m-----------------search_items_by_similiarity-----------------\n",
      "item selected item =  Y15 Fried Garlic Chicken Wings  call match_modifications\n",
      "\u001b[36;1m\u001b[1;3m{'status': 'selected', 'user_input': 'Y15 Fried Garlic Chicken Wings', 'item_info': {'item': 'Y15 Fried Garlic Chicken Wings', 'user_requested_item': 'Y15 Fried Garlic Chicken Wings', 'description': 'Y15 Fried Garlic Chicken Wings', 'quantity': 1}, 'modifications_info': {'status': 'completed', 'selected_modifications': [], 'missing_modifications': [], 'unclear_modifications': [], 'nonfound_modifications': []}}\u001b[0m\u001b[32;1m\u001b[1;3m{\n",
      "    \"type\": \"confirmed_add_cart\",\n",
      "    \"data\": {\n",
      "        \"message\": \"I have added Y33 Unagi Don and Y15 Fried Garlic Chicken Wings, each in a quantity of 1 to your cart. Would you like to proceed with placing your order?\",\n",
      "        \"cart_info\": [\n",
      "            {\n",
      "                \"item_info\": {\n",
      "                    \"item\": \"Y33 Unagi Don\",\n",
      "                    \"description\": \"Y33 Unagi Don\",\n",
      "                    \"quantity\": 1\n",
      "                },\n",
      "                \"selected_modifications\": []\n",
      "            },\n",
      "            {\n",
      "                \"item_info\": {\n",
      "                    \"item\": \"Y15 Fried Garlic Chicken Wings\",\n",
      "                    \"description\": \"Y15 Fried Garlic Chicken Wings\",\n",
      "                    \"quantity\": 1\n",
      "                },\n",
      "                \"selected_modifications\": []\n",
      "            }\n",
      "        ]\n",
      "    }\n",
      "}\u001b[0m\n",
      "\n",
      "\u001b[1m> Finished chain.\u001b[0m\n",
      "Add Cart Agent:  {'type': 'confirmed_add_cart', 'data': {'message': 'I have added Y33 Unagi Don and Y15 Fried Garlic Chicken Wings, each in a quantity of 1 to your cart. Would you like to proceed with placing your order?', 'cart_info': [{'item_info': {'item': 'Y33 Unagi Don', 'description': 'Y33 Unagi Don', 'quantity': 1}, 'selected_modifications': []}, {'item_info': {'item': 'Y15 Fried Garlic Chicken Wings', 'description': 'Y15 Fried Garlic Chicken Wings', 'quantity': 1}, 'selected_modifications': []}]}}\n"
     ]
    },
    {
     "data": {
      "text/plain": [
       "('{\\n    \"type\": \"confirmed_add_cart\",\\n    \"data\": {\\n        \"message\": \"I have added Y33 Unagi Don and Y15 Fried Garlic Chicken Wings, each in a quantity of 1 to your cart. Would you like to proceed with placing your order?\",\\n        \"cart_info\": [\\n            {\\n                \"item_info\": {\\n                    \"item\": \"Y33 Unagi Don\",\\n                    \"description\": \"Y33 Unagi Don\",\\n                    \"quantity\": 1\\n                },\\n                \"selected_modifications\": []\\n            },\\n            {\\n                \"item_info\": {\\n                    \"item\": \"Y15 Fried Garlic Chicken Wings\",\\n                    \"description\": \"Y15 Fried Garlic Chicken Wings\",\\n                    \"quantity\": 1\\n                },\\n                \"selected_modifications\": []\\n            }\\n        ]\\n    }\\n}',\n",
       " {'type': 'confirmed_add_cart',\n",
       "  'data': {'message': 'I have added Y33 Unagi Don and Y15 Fried Garlic Chicken Wings, each in a quantity of 1 to your cart. Would you like to proceed with placing your order?',\n",
       "   'cart_info': [{'item_info': {'item': 'Y33 Unagi Don',\n",
       "      'description': 'Y33 Unagi Don',\n",
       "      'quantity': 1},\n",
       "     'selected_modifications': []},\n",
       "    {'item_info': {'item': 'Y15 Fried Garlic Chicken Wings',\n",
       "      'description': 'Y15 Fried Garlic Chicken Wings',\n",
       "      'quantity': 1},\n",
       "     'selected_modifications': []}]}})"
      ]
     },
     "execution_count": 11,
     "metadata": {},
     "output_type": "execute_result"
    }
   ],
   "source": [
    "agent.run_agent(\"the Unagi Don and Garlic Chicken Wings\")"
   ]
  },
  {
   "cell_type": "code",
   "execution_count": null,
   "id": "528cf32f",
   "metadata": {},
   "outputs": [],
   "source": []
  }
 ],
 "metadata": {
  "kernelspec": {
   "display_name": "Python 3 (ipykernel)",
   "language": "python",
   "name": "python3"
  },
  "language_info": {
   "codemirror_mode": {
    "name": "ipython",
    "version": 3
   },
   "file_extension": ".py",
   "mimetype": "text/x-python",
   "name": "python",
   "nbconvert_exporter": "python",
   "pygments_lexer": "ipython3",
   "version": "3.10.9"
  }
 },
 "nbformat": 4,
 "nbformat_minor": 5
}
