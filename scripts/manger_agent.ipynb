{
 "cells": [
  {
   "cell_type": "code",
   "execution_count": 2,
   "id": "9ce9dab7",
   "metadata": {},
   "outputs": [
    {
     "name": "stdout",
     "output_type": "stream",
     "text": [
      "The autoreload extension is already loaded. To reload it, use:\n",
      "  %reload_ext autoreload\n"
     ]
    }
   ],
   "source": [
    "%load_ext autoreload\n",
    "%autoreload 2\n",
    "\n",
    "import sys\n",
    "sys.path.append(\"C:/Users/yuezo/OneDrive/桌面/project/cater-ai-agents/models/LCEL_agent\")\n",
    "sys.path.append(\"C:/Users/yuezo/OneDrive/桌面/project/cater-ai-agents/models/LCEL_engine\")\n",
    "sys.path.append(\"C:/Users/yuezo/OneDrive/桌面/project/cater-ai-agents/models/Menu_Retriever\")\n",
    "\n",
    "from manger_agent import *\n",
    "from search_engine import *\n",
    "from search_engine import *\n",
    "from menu_retriever import *\n",
    "import os\n"
   ]
  },
  {
   "cell_type": "code",
   "execution_count": 3,
   "id": "f29b9b37",
   "metadata": {},
   "outputs": [],
   "source": [
    "agent = ManagerAgent(\"C:/Users/yuezo/OneDrive/桌面/project/cater-ai-agents/scripts/example.cfg\")"
   ]
  },
  {
   "cell_type": "code",
   "execution_count": 4,
   "id": "d3bfbb2a",
   "metadata": {},
   "outputs": [
    {
     "name": "stdout",
     "output_type": "stream",
     "text": [
      "\n",
      "\n",
      "\u001b[1m> Entering new AgentExecutor chain...\u001b[0m\n",
      "\u001b[32;1m\u001b[1;3m{\n",
      "    \"type\": \"not_handle\",\n",
      "    \"data\": {\n",
      "        \"user_message\": \"hello bro, are you ok?\",\n",
      "        \"message\": \"Sorry, I am here to help handle restaurant related questions. I can't handle this request!\"\n",
      "    }\n",
      "}\u001b[0m\n",
      "\n",
      "\u001b[1m> Finished chain.\u001b[0m\n",
      "Manager Agent:  {'type': 'not_handle', 'data': {'user_message': 'hello bro, are you ok?', 'message': \"Sorry, I am here to help handle restaurant related questions. I can't handle this request!\"}}\n"
     ]
    }
   ],
   "source": [
    "raw_result, json_result = agent.run_agent(\"hello bro, are you ok?\")"
   ]
  },
  {
   "cell_type": "code",
   "execution_count": 5,
   "id": "f5a59dfc",
   "metadata": {},
   "outputs": [
    {
     "name": "stdout",
     "output_type": "stream",
     "text": [
      "\n",
      "\n",
      "\u001b[1m> Entering new AgentExecutor chain...\u001b[0m\n",
      "\u001b[32;1m\u001b[1;3m{\n",
      "    \"type\": \"recommend_items\",\n",
      "    \"data\": {\n",
      "        \"user_message\": \"hi bro, i want to order some food?\"\n",
      "    }\n",
      "}\u001b[0m\n",
      "\n",
      "\u001b[1m> Finished chain.\u001b[0m\n",
      "Manager Agent:  {'type': 'recommend_items', 'data': {'user_message': 'hi bro, i want to order some food?'}}\n"
     ]
    },
    {
     "data": {
      "text/plain": [
       "('{\\n    \"type\": \"recommend_items\",\\n    \"data\": {\\n        \"user_message\": \"hi bro, i want to order some food?\"\\n    }\\n}',\n",
       " {'type': 'recommend_items',\n",
       "  'data': {'user_message': 'hi bro, i want to order some food?'}})"
      ]
     },
     "execution_count": 5,
     "metadata": {},
     "output_type": "execute_result"
    }
   ],
   "source": [
    "agent.run_agent(\"hi bro, i want to order some food?\")"
   ]
  },
  {
   "cell_type": "code",
   "execution_count": 6,
   "id": "50c625a4",
   "metadata": {},
   "outputs": [
    {
     "name": "stdout",
     "output_type": "stream",
     "text": [
      "\n",
      "\n",
      "\u001b[1m> Entering new AgentExecutor chain...\u001b[0m\n",
      "\u001b[32;1m\u001b[1;3m{\n",
      "    \"type\": \"add_items\",\n",
      "    \"data\": {\n",
      "        \"user_message\": \"hi bro, i want to order a bubble mike tea and a pizza?\"\n",
      "    }\n",
      "}\u001b[0m\n",
      "\n",
      "\u001b[1m> Finished chain.\u001b[0m\n",
      "Manager Agent:  {'type': 'add_items', 'data': {'user_message': 'hi bro, i want to order a bubble mike tea and a pizza?'}}\n"
     ]
    },
    {
     "data": {
      "text/plain": [
       "('{\\n    \"type\": \"add_items\",\\n    \"data\": {\\n        \"user_message\": \"hi bro, i want to order a bubble mike tea and a pizza?\"\\n    }\\n}',\n",
       " {'type': 'add_items',\n",
       "  'data': {'user_message': 'hi bro, i want to order a bubble mike tea and a pizza?'}})"
      ]
     },
     "execution_count": 6,
     "metadata": {},
     "output_type": "execute_result"
    }
   ],
   "source": [
    "agent.run_agent(\"hi bro, i want to order a bubble mike tea and a pizza?\")"
   ]
  },
  {
   "cell_type": "code",
   "execution_count": null,
   "id": "6b7f88e8",
   "metadata": {},
   "outputs": [],
   "source": []
  }
 ],
 "metadata": {
  "kernelspec": {
   "display_name": "Python 3 (ipykernel)",
   "language": "python",
   "name": "python3"
  },
  "language_info": {
   "codemirror_mode": {
    "name": "ipython",
    "version": 3
   },
   "file_extension": ".py",
   "mimetype": "text/x-python",
   "name": "python",
   "nbconvert_exporter": "python",
   "pygments_lexer": "ipython3",
   "version": "3.10.9"
  }
 },
 "nbformat": 4,
 "nbformat_minor": 5
}
