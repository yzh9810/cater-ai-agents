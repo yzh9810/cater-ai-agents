{
 "cells": [
  {
   "cell_type": "code",
   "execution_count": 25,
   "id": "a3a11a53",
   "metadata": {},
   "outputs": [
    {
     "name": "stdout",
     "output_type": "stream",
     "text": [
      "The autoreload extension is already loaded. To reload it, use:\n",
      "  %reload_ext autoreload\n"
     ]
    }
   ],
   "source": [
    "%load_ext autoreload\n",
    "%autoreload 2\n",
    "\n",
    "import sys\n",
    "sys.path.append(\"C:/Users/yuezo/OneDrive/桌面/project/cater-ai-agents/models/LCEL_agent\")\n",
    "sys.path.append(\"C:/Users/yuezo/OneDrive/桌面/project/cater-ai-agents/models/LCEL_engine\")\n",
    "sys.path.append(\"C:/Users/yuezo/OneDrive/桌面/project/cater-ai-agents/models/Menu_Retriever\")\n",
    "import nest_asyncio\n",
    "from manger_agent import *\n",
    "from search_engine import *\n",
    "from search_engine import *\n",
    "from menu_retriever import *\n",
    "from cater_AI import *\n",
    "import os\n",
    "nest_asyncio.apply()\n",
    "\n",
    "os.environ[\"LANGCHAIN_TRACING_V2\"] = \"true\"\n",
    "os.environ[\"LANGCHAIN_API_KEY\"] = \"ls__e33af7b422394942b1ca565215fd1b92\"\n",
    "os.environ[\"OPENAI_API_KEY\"] = \"sk-proj-AlzmJmyqlP3OQ0J8C72BT3BlbkFJRGzI1k47rj0QDWF790U7\""
   ]
  },
  {
   "cell_type": "code",
   "execution_count": 26,
   "id": "9c8837ae",
   "metadata": {},
   "outputs": [],
   "source": [
    "manger_agent = ManagerAgent(\"C:/Users/yuezo/OneDrive/桌面/project/cater-ai-agents/scripts/example.cfg\")\n",
    "add_items_agent = AddCartAgent(\"C:/Users/yuezo/OneDrive/桌面/project/cater-ai-agents/scripts/example.cfg\")\n",
    "recommend_agent = RecommendAgent(\"C:/Users/yuezo/OneDrive/桌面/project/cater-ai-agents/scripts/example.cfg\")\n",
    "\n",
    "agents = {\n",
    "    \"manger_agent\": manger_agent,\n",
    "    \"recommend_item_agent\": recommend_agent,\n",
    "    \"add_items_agent\": add_items_agent,\n",
    "}\n",
    "\n",
    "cater_ai = CaterAI(agents)"
   ]
  },
  {
   "cell_type": "code",
   "execution_count": 27,
   "id": "5d72c7ff",
   "metadata": {},
   "outputs": [],
   "source": [
    "# recommend_agent.prompt"
   ]
  },
  {
   "cell_type": "code",
   "execution_count": 28,
   "id": "4ec1aee0",
   "metadata": {},
   "outputs": [
    {
     "name": "stdout",
     "output_type": "stream",
     "text": [
      "current_agent_name =  manger_agent\n",
      "\n",
      "\n",
      "\u001b[1m> Entering new AgentExecutor chain...\u001b[0m\n",
      "\u001b[32;1m\u001b[1;3m{\n",
      "    \"type\": \"add_items\",\n",
      "    \"data\": {\n",
      "        \"user_message\": \"i confirmed to add bubble milk tea into cart\"\n",
      "    }\n",
      "}\u001b[0m\n",
      "\n",
      "\u001b[1m> Finished chain.\u001b[0m\n",
      "Manager Agent:  {'type': 'add_items', 'data': {'user_message': 'i confirmed to add bubble milk tea into cart'}}\n",
      "from manger_agent to add_items_agent\n",
      "\n",
      "\n",
      "\u001b[1m> Entering new AgentExecutor chain...\u001b[0m\n",
      "\u001b[32;1m\u001b[1;3m\n",
      "Invoking: `add_item_cart` with `{'cartId': 0, 'item': 'bubble milk tea', 'modifications': [], 'quantity': 1}`\n",
      "\n",
      "\n",
      "\u001b[0mError: cartId 0 not found in cache\n",
      "-----------------search_items_by_similiarity-----------------\n",
      "for async elapsed_time =  3.139820000040345\n",
      "for sync merge time =  2.439643600024283\n",
      "\u001b[38;5;200m\u001b[1;3m{'status': 'need_details', 'user_input': 'bubble milk tea', 'options': [{'name': 'B1 Signature Boba Milk Tea', 'description': 'Classic milk tea with chewy boba pearls.'}, {'name': 'B4 Tofuhua & Red Bean Milk Tea', 'description': 'Milk tea with silky tofu dessert and sweet red beans.'}]}\u001b[0m\u001b[32;1m\u001b[1;3m{\n",
      "    \"type\": \"item_selection_need_details\",\n",
      "    \"data\": {\n",
      "        \"message\": \"From what you've entered as 'bubble milk tea', I've located several items on the menu, such as ['B1 Signature Boba Milk Tea', 'B4 Tofuhua & Red Bean Milk Tea']. Could you give more details or specify which item you'd like to add to your cart?\",\n",
      "        \"options\": [\n",
      "            {\n",
      "                \"name\": \"B1 Signature Boba Milk Tea\",\n",
      "                \"description\": \"Classic milk tea with chewy boba pearls.\"\n",
      "            },\n",
      "            {\n",
      "                \"name\": \"B4 Tofuhua & Red Bean Milk Tea\",\n",
      "                \"description\": \"Milk tea with silky tofu dessert and sweet red beans.\"\n",
      "            }\n",
      "        ]\n",
      "    }\n",
      "}\u001b[0m\n",
      "\n",
      "\u001b[1m> Finished chain.\u001b[0m\n",
      "Add Cart Agent:  {'type': 'item_selection_need_details', 'data': {'message': \"From what you've entered as 'bubble milk tea', I've located several items on the menu, such as ['B1 Signature Boba Milk Tea', 'B4 Tofuhua & Red Bean Milk Tea']. Could you give more details or specify which item you'd like to add to your cart?\", 'options': [{'name': 'B1 Signature Boba Milk Tea', 'description': 'Classic milk tea with chewy boba pearls.'}, {'name': 'B4 Tofuhua & Red Bean Milk Tea', 'description': 'Milk tea with silky tofu dessert and sweet red beans.'}]}}\n",
      "elapsed_time =  14.213584500015713\n"
     ]
    },
    {
     "data": {
      "text/plain": [
       "('{\\n    \"type\": \"item_selection_need_details\",\\n    \"data\": {\\n        \"message\": \"From what you\\'ve entered as \\'bubble milk tea\\', I\\'ve located several items on the menu, such as [\\'B1 Signature Boba Milk Tea\\', \\'B4 Tofuhua & Red Bean Milk Tea\\']. Could you give more details or specify which item you\\'d like to add to your cart?\",\\n        \"options\": [\\n            {\\n                \"name\": \"B1 Signature Boba Milk Tea\",\\n                \"description\": \"Classic milk tea with chewy boba pearls.\"\\n            },\\n            {\\n                \"name\": \"B4 Tofuhua & Red Bean Milk Tea\",\\n                \"description\": \"Milk tea with silky tofu dessert and sweet red beans.\"\\n            }\\n        ]\\n    }\\n}',\n",
       " {'type': 'item_selection_need_details',\n",
       "  'data': {'message': \"From what you've entered as 'bubble milk tea', I've located several items on the menu, such as ['B1 Signature Boba Milk Tea', 'B4 Tofuhua & Red Bean Milk Tea']. Could you give more details or specify which item you'd like to add to your cart?\",\n",
       "   'options': [{'name': 'B1 Signature Boba Milk Tea',\n",
       "     'description': 'Classic milk tea with chewy boba pearls.'},\n",
       "    {'name': 'B4 Tofuhua & Red Bean Milk Tea',\n",
       "     'description': 'Milk tea with silky tofu dessert and sweet red beans.'}]}})"
      ]
     },
     "execution_count": 28,
     "metadata": {},
     "output_type": "execute_result"
    }
   ],
   "source": [
    "cater_ai.run_agent(\"i confirmed to add bubble milk tea into cart\")"
   ]
  },
  {
   "cell_type": "code",
   "execution_count": 29,
   "id": "b87763b4",
   "metadata": {},
   "outputs": [
    {
     "name": "stdout",
     "output_type": "stream",
     "text": [
      "current_agent_name =  add_items_agent\n",
      "\n",
      "\n",
      "\u001b[1m> Entering new AgentExecutor chain...\u001b[0m\n",
      "\u001b[32;1m\u001b[1;3m{\n",
      "    \"type\": \"exit_topic\",\n",
      "    \"data\": {\n",
      "        \"user_message\": \"ok, you are not looks ok, you are stupid\"\n",
      "    }\n",
      "}\u001b[0m\n",
      "\n",
      "\u001b[1m> Finished chain.\u001b[0m\n",
      "Add Cart Agent:  {'type': 'exit_topic', 'data': {'user_message': 'ok, you are not looks ok, you are stupid'}}\n",
      "from add_items_agent to manger_agent\n",
      "\n",
      "\n",
      "\u001b[1m> Entering new AgentExecutor chain...\u001b[0m\n",
      "\u001b[32;1m\u001b[1;3m{\n",
      "    \"type\": \"not_handle\",\n",
      "    \"data\": {\n",
      "        \"user_message\": \"ok, you are not looks ok, you are stupid\",\n",
      "        \"message\": \"Sorry, I am here to help handle restaurant related questions. I can't handle this request!\"\n",
      "    }\n",
      "}\u001b[0m\n",
      "\n",
      "\u001b[1m> Finished chain.\u001b[0m\n",
      "Manager Agent:  {'type': 'not_handle', 'data': {'user_message': 'ok, you are not looks ok, you are stupid', 'message': \"Sorry, I am here to help handle restaurant related questions. I can't handle this request!\"}}\n",
      "elapsed_time =  3.6299260000232607\n"
     ]
    },
    {
     "data": {
      "text/plain": [
       "('{\\n    \"type\": \"not_handle\",\\n    \"data\": {\\n        \"user_message\": \"ok, you are not looks ok, you are stupid\",\\n        \"message\": \"Sorry, I am here to help handle restaurant related questions. I can\\'t handle this request!\"\\n    }\\n}',\n",
       " {'type': 'not_handle',\n",
       "  'data': {'user_message': 'ok, you are not looks ok, you are stupid',\n",
       "   'message': \"Sorry, I am here to help handle restaurant related questions. I can't handle this request!\"}})"
      ]
     },
     "execution_count": 29,
     "metadata": {},
     "output_type": "execute_result"
    }
   ],
   "source": [
    "cater_ai.run_agent(\"ok, you are not looks ok, you are stupid\")"
   ]
  },
  {
   "cell_type": "code",
   "execution_count": 30,
   "id": "05337b0e",
   "metadata": {},
   "outputs": [
    {
     "name": "stdout",
     "output_type": "stream",
     "text": [
      "current_agent_name =  manger_agent\n",
      "\n",
      "\n",
      "\u001b[1m> Entering new AgentExecutor chain...\u001b[0m\n",
      "\u001b[32;1m\u001b[1;3m{\n",
      "    \"type\": \"recommend_items\",\n",
      "    \"data\": {\n",
      "        \"user_message\": \"ok, i want to place order\"\n",
      "    }\n",
      "}\u001b[0m\n",
      "\n",
      "\u001b[1m> Finished chain.\u001b[0m\n",
      "Manager Agent:  {'type': 'recommend_items', 'data': {'user_message': 'ok, i want to place order'}}\n",
      "from manger_agent to recommend_item_agent\n",
      "\n",
      "\n",
      "\u001b[1m> Entering new AgentExecutor chain...\u001b[0m\n",
      "\u001b[32;1m\u001b[1;3m{\n",
      "    \"type\": \"preference_request\",\n",
      "    \"data\": {\n",
      "        \"message\": \"Can you provide some more details about your preferences?\"\n",
      "    }\n",
      "}\u001b[0m\n",
      "\n",
      "\u001b[1m> Finished chain.\u001b[0m\n",
      "Recommend Agent:  {'type': 'preference_request', 'data': {'message': 'Can you provide some more details about your preferences?'}}\n",
      "elapsed_time =  3.14244259998668\n"
     ]
    },
    {
     "data": {
      "text/plain": [
       "'Can you provide some more details about your preferences?'"
      ]
     },
     "execution_count": 30,
     "metadata": {},
     "output_type": "execute_result"
    }
   ],
   "source": [
    "cater_ai.run(\"ok, i want to place order\")"
   ]
  },
  {
   "cell_type": "code",
   "execution_count": 31,
   "id": "39e56db3",
   "metadata": {},
   "outputs": [
    {
     "name": "stdout",
     "output_type": "stream",
     "text": [
      "current_agent_name =  recommend_item_agent\n",
      "\n",
      "\n",
      "\u001b[1m> Entering new AgentExecutor chain...\u001b[0m\n",
      "\u001b[32;1m\u001b[1;3m\n",
      "Invoking: `recommend_item` with `{'preferences': ['B1 Signature Boba Milk Tea'], 'allergies': []}`\n",
      "\n",
      "\n",
      "\u001b[0m-----------------recommend_items_by_perference-----------------\n",
      "for async elapsed_time =  3.6233967000152916\n",
      "for sync merge time =  0.9437699998961762\n",
      "\u001b[36;1m\u001b[1;3m{'status': 'selected', 'option': {'name': 'B1 Signature Boba Milk Tea', 'description': 'Classic milk tea with chewy boba pearls.'}}\u001b[0m\u001b[32;1m\u001b[1;3m{\n",
      "    \"type\": \"recommend_selected\",\n",
      "    \"data\": {\n",
      "        \"message\": \"I recommend B1 Signature Boba Milk Tea which is Classic milk tea with chewy boba pearls. Would you like to order this item?\",\n",
      "        \"items\": [\n",
      "            {\n",
      "                \"name\": \"B1 Signature Boba Milk Tea\",\n",
      "                \"description\": \"Classic milk tea with chewy boba pearls.\"\n",
      "            }\n",
      "        ]\n",
      "    }\n",
      "}\u001b[0m\n",
      "\n",
      "\u001b[1m> Finished chain.\u001b[0m\n",
      "Recommend Agent:  {'type': 'recommend_selected', 'data': {'message': 'I recommend B1 Signature Boba Milk Tea which is Classic milk tea with chewy boba pearls. Would you like to order this item?', 'items': [{'name': 'B1 Signature Boba Milk Tea', 'description': 'Classic milk tea with chewy boba pearls.'}]}}\n",
      "elapsed_time =  9.411753299995326\n"
     ]
    },
    {
     "data": {
      "text/plain": [
       "'I recommend B1 Signature Boba Milk Tea which is Classic milk tea with chewy boba pearls. Would you like to order this item?'"
      ]
     },
     "execution_count": 31,
     "metadata": {},
     "output_type": "execute_result"
    }
   ],
   "source": [
    "cater_ai.run(\"no, i wan to order B1 Signature Boba Milk Tea\")"
   ]
  },
  {
   "cell_type": "code",
   "execution_count": 32,
   "id": "e0146ad5",
   "metadata": {},
   "outputs": [
    {
     "name": "stdout",
     "output_type": "stream",
     "text": [
      "current_agent_name =  recommend_item_agent\n",
      "\n",
      "\n",
      "\u001b[1m> Entering new AgentExecutor chain...\u001b[0m\n",
      "\u001b[32;1m\u001b[1;3m\n",
      "Invoking: `recommend_item` with `{'preferences': ['passionfruit'], 'allergies': []}`\n",
      "\n",
      "\n",
      "\u001b[0m-----------------recommend_items_by_perference-----------------\n",
      "for async elapsed_time =  1.2397927000420168\n",
      "for sync merge time =  0.7861682999646291\n",
      "\u001b[36;1m\u001b[1;3m{'status': 'selected', 'option': {'name': 'D5 Passion Fruit Tea', 'description': 'Tangy passion fruit infused tea.'}}\u001b[0m\u001b[32;1m\u001b[1;3m{\n",
      "    \"type\": \"recommend_selected\",\n",
      "    \"data\": {\n",
      "        \"message\": \"I recommend D5 Passion Fruit Tea which is Tangy passion fruit infused tea. Would you like to order this item?\",\n",
      "        \"items\": [\n",
      "            {\n",
      "                \"name\": \"D5 Passion Fruit Tea\",\n",
      "                \"description\": \"Tangy passion fruit infused tea.\"\n",
      "            }\n",
      "        ]\n",
      "    }\n",
      "}\u001b[0m\n",
      "\n",
      "\u001b[1m> Finished chain.\u001b[0m\n",
      "Recommend Agent:  {'type': 'recommend_selected', 'data': {'message': 'I recommend D5 Passion Fruit Tea which is Tangy passion fruit infused tea. Would you like to order this item?', 'items': [{'name': 'D5 Passion Fruit Tea', 'description': 'Tangy passion fruit infused tea.'}]}}\n",
      "elapsed_time =  5.6708657999988645\n"
     ]
    },
    {
     "data": {
      "text/plain": [
       "'I recommend D5 Passion Fruit Tea which is Tangy passion fruit infused tea. Would you like to order this item?'"
      ]
     },
     "execution_count": 32,
     "metadata": {},
     "output_type": "execute_result"
    }
   ],
   "source": [
    "cater_ai.run(\"i want a passionfruit drinks\")"
   ]
  },
  {
   "cell_type": "code",
   "execution_count": 33,
   "id": "6b8632ae",
   "metadata": {},
   "outputs": [
    {
     "name": "stdout",
     "output_type": "stream",
     "text": [
      "current_agent_name =  recommend_item_agent\n",
      "\n",
      "\n",
      "\u001b[1m> Entering new AgentExecutor chain...\u001b[0m\n",
      "\u001b[32;1m\u001b[1;3m\n",
      "Invoking: `recommend_item` with `{'preferences': ['passionfruit'], 'allergies': []}`\n",
      "\n",
      "\n",
      "\u001b[0m-----------------recommend_items_by_perference-----------------\n",
      "for async elapsed_time =  1.5732527000363916\n",
      "for sync merge time =  0.9583298999350518\n",
      "\u001b[36;1m\u001b[1;3m{'status': 'selected', 'option': {'name': 'D5 Passion Fruit Tea', 'description': 'Tangy passion fruit infused tea.'}}\u001b[0m\u001b[32;1m\u001b[1;3m{\n",
      "    \"type\": \"recommend_selected\",\n",
      "    \"data\": {\n",
      "        \"message\": \"I recommend H3 Passion Fruit Sparkling Tea which is Refreshing sparkling tea with a tangy passion fruit flavor. Would you like to order this item?\",\n",
      "        \"items\": [\n",
      "            {\n",
      "                \"name\": \"H3 Passion Fruit Sparkling Tea\",\n",
      "                \"description\": \"Refreshing sparkling tea with a tangy passion fruit flavor.\"\n",
      "            }\n",
      "        ]\n",
      "    }\n",
      "}\u001b[0m\n",
      "\n",
      "\u001b[1m> Finished chain.\u001b[0m\n",
      "Recommend Agent:  {'type': 'recommend_selected', 'data': {'message': 'I recommend H3 Passion Fruit Sparkling Tea which is Refreshing sparkling tea with a tangy passion fruit flavor. Would you like to order this item?', 'items': [{'name': 'H3 Passion Fruit Sparkling Tea', 'description': 'Refreshing sparkling tea with a tangy passion fruit flavor.'}]}}\n",
      "elapsed_time =  7.5603989999508485\n"
     ]
    },
    {
     "data": {
      "text/plain": [
       "'I recommend H3 Passion Fruit Sparkling Tea which is Refreshing sparkling tea with a tangy passion fruit flavor. Would you like to order this item?'"
      ]
     },
     "execution_count": 33,
     "metadata": {},
     "output_type": "execute_result"
    }
   ],
   "source": [
    "cater_ai.run(\"the H3 one\")"
   ]
  },
  {
   "cell_type": "code",
   "execution_count": 34,
   "id": "818bf96f",
   "metadata": {},
   "outputs": [
    {
     "name": "stdout",
     "output_type": "stream",
     "text": [
      "current_agent_name =  recommend_item_agent\n",
      "\n",
      "\n",
      "\u001b[1m> Entering new AgentExecutor chain...\u001b[0m\n",
      "\u001b[32;1m\u001b[1;3m{\n",
      "    \"type\": \"add_items\",\n",
      "    \"data\": {\n",
      "        \"message\": \"Great selections! We will add B1 Signature Boba Milk Tea with ice, no sugar to your cart.\",\n",
      "        \"user_message\": \"I want to add B1 Signature Boba Milk Tea with ice, no sugar to my cart\",\n",
      "        \"items\": [\n",
      "            {\n",
      "                \"name\": \"B1 Signature Boba Milk Tea\",\n",
      "                \"customization\": \"with ice, no sugar\"\n",
      "            }\n",
      "        ]\n",
      "    }\n",
      "}\u001b[0m\n",
      "\n",
      "\u001b[1m> Finished chain.\u001b[0m\n",
      "Recommend Agent:  {'type': 'add_items', 'data': {'message': 'Great selections! We will add B1 Signature Boba Milk Tea with ice, no sugar to your cart.', 'user_message': 'I want to add B1 Signature Boba Milk Tea with ice, no sugar to my cart', 'items': [{'name': 'B1 Signature Boba Milk Tea', 'customization': 'with ice, no sugar'}]}}\n",
      "from recommend_item_agent to add_items_agent\n",
      "\n",
      "\n",
      "\u001b[1m> Entering new AgentExecutor chain...\u001b[0m\n",
      "\u001b[32;1m\u001b[1;3m\n",
      "Invoking: `match_item` with `{'item': 'B1 Signature Boba Milk Tea', 'modifications': ['ice', 'no sugar'], 'quantity': 1}`\n",
      "\n",
      "\n",
      "\u001b[0m-----------------search_items_by_similiarity-----------------\n",
      "for async elapsed_time =  1.518172400072217\n",
      "for sync merge time =  0.8951837999047711\n",
      "item selected item =  B1 Signature Boba Milk Tea  call match_modifications\n",
      "add_cache_item cartId = {'status': 'selected', 'cartId': 1, 'item_info': {'item': 'B1 Signature Boba Milk Tea', 'user_requested_item': 'B1 Signature Boba Milk Tea', 'description': 'Classic milk tea with chewy boba pearls.', 'quantity': 1}}\n",
      "-----------------search_modification_name_by_similiarity-----------------\n",
      "for async elapsed_time =  0.7947205000091344\n",
      "modification = ice, name_response = {'status': 'selected', 'option': {'name': 'Ice', 'description': 'Controls ice amount.'}}/n\n",
      "-----------------search_modification_specs_by_similiarity-----------------\n",
      "for async elapsed_time =  1.9699998000869527\n",
      "for sync merge time =  2.2251854999922216\n",
      "modification = ice, spec_response = {'status': 'need_details', 'options': [{'name': '0% Ice', 'description': 'No ice'}, {'name': '100% Ice', 'description': 'full ice'}]}/n\n",
      "-----------------search_modification_name_by_similiarity-----------------\n",
      "for async elapsed_time =  0.8213180999737233\n",
      "modification = no sugar, name_response = {'status': 'selected', 'option': {'name': 'Sugar', 'description': 'Adjusts sweetness level.'}}/n\n",
      "-----------------search_modification_specs_by_similiarity-----------------\n",
      "for async elapsed_time =  0.8439496000064537\n",
      "for sync merge time =  0.6262128000380471\n",
      "modification = no sugar, spec_response = {'status': 'selected', 'option': {'name': '0% Sugar', 'description': 'No sugar'}}/n\n",
      "\u001b[36;1m\u001b[1;3m{'status': 'selected', 'cartId': 1, 'user_input': 'B1 Signature Boba Milk Tea', 'item_info': {'item': 'B1 Signature Boba Milk Tea', 'user_requested_item': 'B1 Signature Boba Milk Tea', 'description': 'Classic milk tea with chewy boba pearls.', 'quantity': 1}, 'modifications_info': {'status': 'missing', 'selected_modifications': [{'user_requested_modification': 'no sugar', 'name': 'Sugar', 'description': '0% Sugar'}], 'missing_modifications': [{'name': 'Ice', 'description': 'Controls ice amount.'}], 'unclear_modifications': [{'user_requested_modification': 'ice', 'modification_options': [{'name': '0% Ice', 'description': 'No ice'}, {'name': '100% Ice', 'description': 'full ice'}]}], 'nonfound_modifications': []}}\u001b[0m\u001b[32;1m\u001b[1;3m{\n",
      "    \"type\": \"item_selection_miss_modifications\",\n",
      "    \"data\": {\n",
      "        \"message\": \"We've found B1 Signature Boba Milk Tea on our menu, along with no sugar. However, we couldn't find a direct match for 'ice'. Additionally, there appears to be a need for specifying the ice amount that wasn't mentioned before. We've also encountered an option for ice that needs clarification. Could you please provide more information about these required modifications?\",\n",
      "        \"cartId\": 1,\n",
      "        \"item_info\": {\n",
      "            \"item\": \"B1 Signature Boba Milk Tea\",\n",
      "            \"user_requested_item\": \"B1 Signature Boba Milk Tea\",\n",
      "            \"description\": \"Classic milk tea with chewy boba pearls.\",\n",
      "            \"quantity\": 1\n",
      "        },\n",
      "        \"modification_info\": {\n",
      "            \"modification_status\": \"missing\",\n",
      "            \"selected_modifications\": [\n",
      "                {\n",
      "                    \"user_requested_modification\": \"no sugar\",\n",
      "                    \"name\": \"Sugar\",\n",
      "                    \"description\": \"0% Sugar\"\n",
      "                }\n",
      "            ],\n",
      "            \"missing_modifications\": [\n",
      "                {\n",
      "                    \"name\": \"Ice\",\n",
      "                    \"description\": \"Controls ice amount.\"\n",
      "                }\n",
      "            ],\n",
      "            \"unclear_modifications\": [\n",
      "                {\n",
      "                    \"user_requested_modification\": \"ice\",\n",
      "                    \"modification_options\": [\n",
      "                        {\n",
      "                            \"name\": \"0% Ice\",\n",
      "                            \"description\": \"No ice\"\n",
      "                        },\n",
      "                        {\n",
      "                            \"name\": \"100% Ice\",\n",
      "                            \"description\": \"full ice\"\n",
      "                        }\n",
      "                    ]\n",
      "                }\n",
      "            ],\n",
      "            \"nonfound_modifications\": []\n",
      "        }\n",
      "    }\n",
      "}\u001b[0m\n",
      "\n",
      "\u001b[1m> Finished chain.\u001b[0m\n",
      "Add Cart Agent:  {'type': 'item_selection_miss_modifications', 'data': {'message': \"We've found B1 Signature Boba Milk Tea on our menu, along with no sugar. However, we couldn't find a direct match for 'ice'. Additionally, there appears to be a need for specifying the ice amount that wasn't mentioned before. We've also encountered an option for ice that needs clarification. Could you please provide more information about these required modifications?\", 'cartId': 1, 'item_info': {'item': 'B1 Signature Boba Milk Tea', 'user_requested_item': 'B1 Signature Boba Milk Tea', 'description': 'Classic milk tea with chewy boba pearls.', 'quantity': 1}, 'modification_info': {'modification_status': 'missing', 'selected_modifications': [{'user_requested_modification': 'no sugar', 'name': 'Sugar', 'description': '0% Sugar'}], 'missing_modifications': [{'name': 'Ice', 'description': 'Controls ice amount.'}], 'unclear_modifications': [{'user_requested_modification': 'ice', 'modification_options': [{'name': '0% Ice', 'description': 'No ice'}, {'name': '100% Ice', 'description': 'full ice'}]}], 'nonfound_modifications': []}}}\n",
      "elapsed_time =  22.70965079998132\n"
     ]
    },
    {
     "data": {
      "text/plain": [
       "\"We've found B1 Signature Boba Milk Tea on our menu, along with no sugar. However, we couldn't find a direct match for 'ice'. Additionally, there appears to be a need for specifying the ice amount that wasn't mentioned before. We've also encountered an option for ice that needs clarification. Could you please provide more information about these required modifications?\""
      ]
     },
     "execution_count": 34,
     "metadata": {},
     "output_type": "execute_result"
    }
   ],
   "source": [
    "cater_ai.run(\"i want to add ice, no sugar in my milk tea\")"
   ]
  },
  {
   "cell_type": "code",
   "execution_count": 35,
   "id": "f7c8916a",
   "metadata": {},
   "outputs": [
    {
     "name": "stdout",
     "output_type": "stream",
     "text": [
      "current_agent_name =  add_items_agent\n",
      "\n",
      "\n",
      "\u001b[1m> Entering new AgentExecutor chain...\u001b[0m\n",
      "\u001b[32;1m\u001b[1;3m\n",
      "Invoking: `match_modifications` with `{'cartId': 1, 'item': 'B1 Signature Boba Milk Tea', 'modifications': ['no sugar', 'no ice'], 'quantity': 1}`\n",
      "\n",
      "\n",
      "\u001b[0m-----------------search_modification_name_by_similiarity-----------------\n",
      "for async elapsed_time =  1.0073884999146685\n",
      "modification = no sugar, name_response = {'status': 'selected', 'option': {'name': 'Sugar', 'description': 'Adjusts sweetness level.'}}/n\n",
      "-----------------search_modification_specs_by_similiarity-----------------\n",
      "for async elapsed_time =  0.9393391999183223\n",
      "for sync merge time =  0.7758479000767693\n",
      "modification = no sugar, spec_response = {'status': 'selected', 'option': {'name': '0% Sugar', 'description': 'No sugar'}}/n\n",
      "-----------------search_modification_name_by_similiarity-----------------\n",
      "for async elapsed_time =  0.8040748999919742\n",
      "modification = no ice, name_response = {'status': 'selected', 'option': {'name': 'Ice', 'description': 'Controls ice amount.'}}/n\n",
      "-----------------search_modification_specs_by_similiarity-----------------\n",
      "for async elapsed_time =  0.8782960999524221\n",
      "for sync merge time =  0.738618899951689\n",
      "modification = no ice, spec_response = {'status': 'selected', 'option': {'name': '0% Ice', 'description': 'No ice'}}/n\n",
      "\u001b[33;1m\u001b[1;3m{'status': 'selected', 'cartId': 1, 'user_input': 'B1 Signature Boba Milk Tea', 'item_info': {'item': 'B1 Signature Boba Milk Tea', 'user_requested_item': 'B1 Signature Boba Milk Tea', 'description': 'Classic milk tea with chewy boba pearls.', 'quantity': 1}, 'modifications_info': {'status': 'completed', 'selected_modifications': [{'user_requested_modification': 'no sugar', 'name': 'Sugar', 'description': '0% Sugar'}, {'user_requested_modification': 'no ice', 'name': 'Ice', 'description': '0% Ice'}], 'missing_modifications': [], 'unclear_modifications': [], 'nonfound_modifications': []}}\u001b[0m\u001b[32;1m\u001b[1;3m{\n",
      "    \"type\": \"item_selection_completed\",\n",
      "    \"data\": {\n",
      "        \"message\": \"We have successfully found the B1 Signature Boba Milk Tea with no sugar and no ice in our menu. Would you like to add this item to your cart?\",\n",
      "        \"cartId\": 1,\n",
      "        \"item_info\": {\n",
      "            \"item\": \"B1 Signature Boba Milk Tea\",\n",
      "            \"user_requested_item\": \"B1 Signature Boba Milk Tea\",\n",
      "            \"description\": \"Classic milk tea with chewy boba pearls.\",\n",
      "            \"quantity\": 1\n",
      "        },\n",
      "        \"modification_info\": {\n",
      "            \"modification_status\": \"completed\",\n",
      "            \"selected_modifications\": [\n",
      "                {\n",
      "                    \"user_requested_modification\": \"no sugar\",\n",
      "                    \"name\": \"Sugar\",\n",
      "                    \"description\": \"0% Sugar\"\n",
      "                },\n",
      "                {\n",
      "                    \"user_requested_modification\": \"no ice\",\n",
      "                    \"name\": \"Ice\",\n",
      "                    \"description\": \"0% Ice\"\n",
      "                }\n",
      "            ]\n",
      "        }\n",
      "    }\n",
      "}\u001b[0m\n",
      "\n",
      "\u001b[1m> Finished chain.\u001b[0m\n",
      "Add Cart Agent:  {'type': 'item_selection_completed', 'data': {'message': 'We have successfully found the B1 Signature Boba Milk Tea with no sugar and no ice in our menu. Would you like to add this item to your cart?', 'cartId': 1, 'item_info': {'item': 'B1 Signature Boba Milk Tea', 'user_requested_item': 'B1 Signature Boba Milk Tea', 'description': 'Classic milk tea with chewy boba pearls.', 'quantity': 1}, 'modification_info': {'modification_status': 'completed', 'selected_modifications': [{'user_requested_modification': 'no sugar', 'name': 'Sugar', 'description': '0% Sugar'}, {'user_requested_modification': 'no ice', 'name': 'Ice', 'description': '0% Ice'}]}}}\n",
      "elapsed_time =  13.967985600000247\n"
     ]
    },
    {
     "data": {
      "text/plain": [
       "'We have successfully found the B1 Signature Boba Milk Tea with no sugar and no ice in our menu. Would you like to add this item to your cart?'"
      ]
     },
     "execution_count": 35,
     "metadata": {},
     "output_type": "execute_result"
    }
   ],
   "source": [
    "cater_ai.run(\"no ice!\")"
   ]
  },
  {
   "cell_type": "code",
   "execution_count": 36,
   "id": "593be15b",
   "metadata": {},
   "outputs": [
    {
     "name": "stdout",
     "output_type": "stream",
     "text": [
      "current_agent_name =  add_items_agent\n",
      "\n",
      "\n",
      "\u001b[1m> Entering new AgentExecutor chain...\u001b[0m\n",
      "\u001b[32;1m\u001b[1;3m{\n",
      "    \"type\": \"exit_topic\",\n",
      "    \"data\": {\n",
      "        \"user_message\": \"no, go fuck your self, i also want to add pudding\"\n",
      "    }\n",
      "}\u001b[0m\n",
      "\n",
      "\u001b[1m> Finished chain.\u001b[0m\n",
      "Add Cart Agent:  {'type': 'exit_topic', 'data': {'user_message': 'no, go fuck your self, i also want to add pudding'}}\n",
      "from add_items_agent to manger_agent\n",
      "\n",
      "\n",
      "\u001b[1m> Entering new AgentExecutor chain...\u001b[0m\n",
      "\u001b[32;1m\u001b[1;3m{\n",
      "    \"type\": \"not_handle\",\n",
      "    \"data\": {\n",
      "        \"user_message\": \"no, go fuck your self, i also want to add pudding\",\n",
      "        \"message\": \"Sorry, I am here to help handle restaurant related questions. I can't handle this request!\"\n",
      "    }\n",
      "}\u001b[0m\n",
      "\n",
      "\u001b[1m> Finished chain.\u001b[0m\n",
      "Manager Agent:  {'type': 'not_handle', 'data': {'user_message': 'no, go fuck your self, i also want to add pudding', 'message': \"Sorry, I am here to help handle restaurant related questions. I can't handle this request!\"}}\n",
      "elapsed_time =  3.546944599947892\n"
     ]
    },
    {
     "data": {
      "text/plain": [
       "\"Sorry, I am here to help handle restaurant related questions. I can't handle this request!\""
      ]
     },
     "execution_count": 36,
     "metadata": {},
     "output_type": "execute_result"
    }
   ],
   "source": [
    "cater_ai.run(\"no, go fuck your self, i also want to add pudding\")"
   ]
  },
  {
   "cell_type": "code",
   "execution_count": 37,
   "id": "6386a766",
   "metadata": {},
   "outputs": [
    {
     "name": "stdout",
     "output_type": "stream",
     "text": [
      "current_agent_name =  manger_agent\n",
      "\n",
      "\n",
      "\u001b[1m> Entering new AgentExecutor chain...\u001b[0m\n",
      "\u001b[32;1m\u001b[1;3m{\n",
      "    \"type\": \"add_items\",\n",
      "    \"data\": {\n",
      "        \"user_message\": \"i just want B1 Signature Boba Milk Tea with pudding, are you ok?\"\n",
      "    }\n",
      "}\u001b[0m\n",
      "\n",
      "\u001b[1m> Finished chain.\u001b[0m\n",
      "Manager Agent:  {'type': 'add_items', 'data': {'user_message': 'i just want B1 Signature Boba Milk Tea with pudding, are you ok?'}}\n",
      "from manger_agent to add_items_agent\n",
      "\n",
      "\n",
      "\u001b[1m> Entering new AgentExecutor chain...\u001b[0m\n",
      "\u001b[32;1m\u001b[1;3m\n",
      "Invoking: `match_item` with `{'item': 'B1 Signature Boba Milk Tea', 'modifications': ['pudding'], 'quantity': 1}`\n",
      "\n",
      "\n",
      "\u001b[0m-----------------search_items_by_similiarity-----------------\n",
      "for async elapsed_time =  2.637475600000471\n",
      "for sync merge time =  0.8621748000150546\n",
      "item selected item =  B1 Signature Boba Milk Tea  call match_modifications\n",
      "add_cache_item cartId = {'status': 'selected', 'cartId': 2, 'item_info': {'item': 'B1 Signature Boba Milk Tea', 'user_requested_item': 'B1 Signature Boba Milk Tea', 'description': 'Classic milk tea with chewy boba pearls.', 'quantity': 1}}\n",
      "-----------------search_modification_name_by_similiarity-----------------\n",
      "for async elapsed_time =  0.9159234000835568\n",
      "for sync merge time =  1.1337494999170303\n",
      "modification = pudding, name_response = {'status': 'need_details', 'options': [{'name': 'Egg Pudding', 'description': 'Silky custard pudding.'}, {'name': 'Matcha Pudding', 'description': 'Green tea-flavored pudding.'}]}/n\n",
      "\u001b[36;1m\u001b[1;3m{'status': 'selected', 'cartId': 2, 'user_input': 'B1 Signature Boba Milk Tea', 'item_info': {'item': 'B1 Signature Boba Milk Tea', 'user_requested_item': 'B1 Signature Boba Milk Tea', 'description': 'Classic milk tea with chewy boba pearls.', 'quantity': 1}, 'modifications_info': {'status': 'missing', 'selected_modifications': [], 'missing_modifications': [{'name': 'Sugar', 'description': 'Adjusts sweetness level.'}, {'name': 'Ice', 'description': 'Controls ice amount.'}], 'unclear_modifications': [{'user_requested_modification': 'pudding', 'modification_options': [{'name': 'Egg Pudding', 'description': 'Silky custard pudding.'}, {'name': 'Matcha Pudding', 'description': 'Green tea-flavored pudding.'}]}], 'nonfound_modifications': []}}\u001b[0m\u001b[32;1m\u001b[1;3m{\n",
      "    \"type\": \"item_selection_miss_modifications\",\n",
      "    \"data\": {\n",
      "        \"message\": \"We've found B1 Signature Boba Milk Tea on our menu, along with pudding. However, we couldn't find Sugar and Ice modifications. Additionally, there appears to be a need for pudding that wasn't mentioned before. We've also encountered pudding that needs clarification. Could you please provide more information about these required modifications?\",\n",
      "        \"cartId\": 2,\n",
      "        \"item_info\": {\n",
      "            \"item\": \"B1 Signature Boba Milk Tea\",\n",
      "            \"user_requested_item\": \"B1 Signature Boba Milk Tea\",\n",
      "            \"description\": \"Classic milk tea with chewy boba pearls.\",\n",
      "            \"quantity\": 1\n",
      "        },\n",
      "        \"modification_info\": {\n",
      "            \"modification_status\": \"missing\",\n",
      "            \"selected_modifications\": [],\n",
      "            \"missing_modifications\": [\n",
      "                {\n",
      "                    \"name\": \"Sugar\",\n",
      "                    \"description\": \"Adjusts sweetness level.\"\n",
      "                },\n",
      "                {\n",
      "                    \"name\": \"Ice\",\n",
      "                    \"description\": \"Controls ice amount.\"\n",
      "                }\n",
      "            ],\n",
      "            \"unclear_modifications\": [\n",
      "                {\n",
      "                    \"user_requested_modification\": \"pudding\",\n",
      "                    \"modification_options\": [\n",
      "                        {\n",
      "                            \"name\": \"Egg Pudding\",\n",
      "                            \"description\": \"Silky custard pudding.\"\n",
      "                        },\n",
      "                        {\n",
      "                            \"name\": \"Matcha Pudding\",\n",
      "                            \"description\": \"Green tea-flavored pudding.\"\n",
      "                        }\n",
      "                    ]\n",
      "                }\n",
      "            ],\n",
      "            \"nonfound_modifications\": []\n",
      "        }\n",
      "    }\n",
      "}\u001b[0m\n",
      "\n",
      "\u001b[1m> Finished chain.\u001b[0m\n",
      "Add Cart Agent:  {'type': 'item_selection_miss_modifications', 'data': {'message': \"We've found B1 Signature Boba Milk Tea on our menu, along with pudding. However, we couldn't find Sugar and Ice modifications. Additionally, there appears to be a need for pudding that wasn't mentioned before. We've also encountered pudding that needs clarification. Could you please provide more information about these required modifications?\", 'cartId': 2, 'item_info': {'item': 'B1 Signature Boba Milk Tea', 'user_requested_item': 'B1 Signature Boba Milk Tea', 'description': 'Classic milk tea with chewy boba pearls.', 'quantity': 1}, 'modification_info': {'modification_status': 'missing', 'selected_modifications': [], 'missing_modifications': [{'name': 'Sugar', 'description': 'Adjusts sweetness level.'}, {'name': 'Ice', 'description': 'Controls ice amount.'}], 'unclear_modifications': [{'user_requested_modification': 'pudding', 'modification_options': [{'name': 'Egg Pudding', 'description': 'Silky custard pudding.'}, {'name': 'Matcha Pudding', 'description': 'Green tea-flavored pudding.'}]}], 'nonfound_modifications': []}}}\n",
      "elapsed_time =  18.12107570003718\n"
     ]
    },
    {
     "data": {
      "text/plain": [
       "\"We've found B1 Signature Boba Milk Tea on our menu, along with pudding. However, we couldn't find Sugar and Ice modifications. Additionally, there appears to be a need for pudding that wasn't mentioned before. We've also encountered pudding that needs clarification. Could you please provide more information about these required modifications?\""
      ]
     },
     "execution_count": 37,
     "metadata": {},
     "output_type": "execute_result"
    }
   ],
   "source": [
    "cater_ai.run(\"i just want B1 Signature Boba Milk Tea with pudding, are you ok?\")"
   ]
  },
  {
   "cell_type": "code",
   "execution_count": 38,
   "id": "62f1c33f",
   "metadata": {},
   "outputs": [
    {
     "name": "stdout",
     "output_type": "stream",
     "text": [
      "current_agent_name =  add_items_agent\n",
      "\n",
      "\n",
      "\u001b[1m> Entering new AgentExecutor chain...\u001b[0m\n",
      "\u001b[32;1m\u001b[1;3m\n",
      "Invoking: `match_modifications` with `{'cartId': 2, 'item': 'B1 Signature Boba Milk Tea', 'modifications': ['half sugar', 'no ice', 'Egg pudding'], 'quantity': 1}`\n",
      "\n",
      "\n",
      "\u001b[0m-----------------search_modification_name_by_similiarity-----------------\n",
      "for async elapsed_time =  1.5419139999430627\n",
      "for sync merge time =  0.8346300000557676\n",
      "modification = half sugar, name_response = {'status': 'selected', 'option': {'name': 'Sugar', 'description': 'Adjusts sweetness level.'}}/n\n",
      "-----------------search_modification_specs_by_similiarity-----------------\n",
      "for async elapsed_time =  1.1407545999391004\n",
      "for sync merge time =  0.7813776000402868\n",
      "modification = half sugar, spec_response = {'status': 'selected', 'option': {'name': '50% Sugar', 'description': 'half sugar'}}/n\n",
      "-----------------search_modification_name_by_similiarity-----------------\n",
      "for async elapsed_time =  0.9536278999876231\n",
      "modification = no ice, name_response = {'status': 'selected', 'option': {'name': 'Ice', 'description': 'Controls ice amount.'}}/n\n",
      "-----------------search_modification_specs_by_similiarity-----------------\n",
      "for async elapsed_time =  0.805767200072296\n",
      "for sync merge time =  0.8197203999152407\n",
      "modification = no ice, spec_response = {'status': 'selected', 'option': {'name': '0% Ice', 'description': 'No ice'}}/n\n",
      "-----------------search_modification_name_by_similiarity-----------------\n",
      "for async elapsed_time =  1.0180962999584153\n",
      "modification = Egg pudding, name_response = {'status': 'selected', 'option': {'name': 'Egg Pudding', 'description': 'Silky custard pudding.'}}/n\n",
      "-----------------search_modification_specs_by_similiarity-----------------\n",
      "modification = Egg pudding, spec_response = {'status': 'selected', 'option': {'name': 'Egg Pudding', 'description': {'name': 'Egg Pudding', 'description': 'Silky custard pudding.', 'values': {'valueStatus': True, 'minBuyNumber': 1, 'name': {'en-US': 'Egg Pudding', 'zh-CN': 'Egg Pudding'}, 'price': 50}, 'options': None}}}/n\n",
      "\u001b[33;1m\u001b[1;3m{'status': 'selected', 'cartId': 2, 'user_input': 'B1 Signature Boba Milk Tea', 'item_info': {'item': 'B1 Signature Boba Milk Tea', 'user_requested_item': 'B1 Signature Boba Milk Tea', 'description': 'Classic milk tea with chewy boba pearls.', 'quantity': 1}, 'modifications_info': {'status': 'completed', 'selected_modifications': [{'user_requested_modification': 'half sugar', 'name': 'Sugar', 'description': '50% Sugar'}, {'user_requested_modification': 'no ice', 'name': 'Ice', 'description': '0% Ice'}, {'user_requested_modification': 'Egg pudding', 'name': 'Egg Pudding', 'description': 'Egg Pudding'}], 'missing_modifications': [], 'unclear_modifications': [], 'nonfound_modifications': []}}\u001b[0m\u001b[32;1m\u001b[1;3m{\n",
      "    \"type\": \"item_selection_completed\",\n",
      "    \"data\": {\n",
      "        \"message\": \"We have successfully found the B1 Signature Boba Milk Tea with Sugar (50% Sugar), Ice (0% Ice), and Egg Pudding in our menu. Would you like to add this item to your cart?\",\n",
      "        \"cartId\": 2,\n",
      "        \"item_info\": {\n",
      "            \"item\": \"B1 Signature Boba Milk Tea\",\n",
      "            \"user_requested_item\": \"B1 Signature Boba Milk Tea\",\n",
      "            \"description\": \"Classic milk tea with chewy boba pearls.\",\n",
      "            \"quantity\": 1\n",
      "        },\n",
      "        \"modification_info\": {\n",
      "            \"modification_status\": \"completed\",\n",
      "            \"selected_modifications\": [\n",
      "                {\n",
      "                    \"user_requested_modification\": \"half sugar\",\n",
      "                    \"name\": \"Sugar\",\n",
      "                    \"description\": \"50% Sugar\"\n",
      "                },\n",
      "                {\n",
      "                    \"user_requested_modification\": \"no ice\",\n",
      "                    \"name\": \"Ice\",\n",
      "                    \"description\": \"0% Ice\"\n",
      "                },\n",
      "                {\n",
      "                    \"user_requested_modification\": \"Egg pudding\",\n",
      "                    \"name\": \"Egg Pudding\",\n",
      "                    \"description\": \"Egg Pudding\"\n",
      "                }\n",
      "            ]\n",
      "        }\n",
      "    }\n",
      "}\u001b[0m\n",
      "\n",
      "\u001b[1m> Finished chain.\u001b[0m\n",
      "Add Cart Agent:  {'type': 'item_selection_completed', 'data': {'message': 'We have successfully found the B1 Signature Boba Milk Tea with Sugar (50% Sugar), Ice (0% Ice), and Egg Pudding in our menu. Would you like to add this item to your cart?', 'cartId': 2, 'item_info': {'item': 'B1 Signature Boba Milk Tea', 'user_requested_item': 'B1 Signature Boba Milk Tea', 'description': 'Classic milk tea with chewy boba pearls.', 'quantity': 1}, 'modification_info': {'modification_status': 'completed', 'selected_modifications': [{'user_requested_modification': 'half sugar', 'name': 'Sugar', 'description': '50% Sugar'}, {'user_requested_modification': 'no ice', 'name': 'Ice', 'description': '0% Ice'}, {'user_requested_modification': 'Egg pudding', 'name': 'Egg Pudding', 'description': 'Egg Pudding'}]}}}\n",
      "elapsed_time =  18.884437900036573\n"
     ]
    },
    {
     "data": {
      "text/plain": [
       "'We have successfully found the B1 Signature Boba Milk Tea with Sugar (50% Sugar), Ice (0% Ice), and Egg Pudding in our menu. Would you like to add this item to your cart?'"
      ]
     },
     "execution_count": 38,
     "metadata": {},
     "output_type": "execute_result"
    }
   ],
   "source": [
    "cater_ai.run(\"half sugar no ice, and add Egg  pudding\")"
   ]
  },
  {
   "cell_type": "code",
   "execution_count": 40,
   "id": "917554b0",
   "metadata": {},
   "outputs": [
    {
     "name": "stdout",
     "output_type": "stream",
     "text": [
      "current_agent_name =  add_items_agent\n",
      "\n",
      "\n",
      "\u001b[1m> Entering new AgentExecutor chain...\u001b[0m\n",
      "\u001b[32;1m\u001b[1;3m\n",
      "Invoking: `match_item` with `{'item': 'Signature bubble milk tea', 'modifications': [], 'quantity': 1}`\n",
      "\n",
      "\n",
      "\u001b[0m-----------------search_items_by_similiarity-----------------\n",
      "for async elapsed_time =  1.4883815000066534\n",
      "for sync merge time =  1.4666469999356195\n",
      "\u001b[36;1m\u001b[1;3m{'status': 'need_details', 'user_input': 'Signature bubble milk tea', 'options': [{'name': 'B1 Signature Boba Milk Tea', 'description': 'Classic milk tea with chewy boba pearls.'}, {'name': 'C1 Signature C-1 Milk Tea', 'description': 'Exclusive house blend milk tea.'}]}\u001b[0m\u001b[32;1m\u001b[1;3m{\n",
      "    \"type\": \"item_selection_need_details\",\n",
      "    \"data\": {\n",
      "        \"message\": \"From what you've entered as Signature bubble milk tea, I've located several items on the menu, such as B1 Signature Boba Milk Tea, and C1 Signature C-1 Milk Tea. Could you give more details or specify which item you'd like to add to your cart?\",\n",
      "        \"options\": [\n",
      "            {\n",
      "                \"name\": \"B1 Signature Boba Milk Tea\",\n",
      "                \"description\": \"Classic milk tea with chewy boba pearls.\"\n",
      "            },\n",
      "            {\n",
      "                \"name\": \"C1 Signature C-1 Milk Tea\",\n",
      "                \"description\": \"Exclusive house blend milk tea.\"\n",
      "            }\n",
      "        ]\n",
      "    }\n",
      "}\u001b[0m\n",
      "\n",
      "\u001b[1m> Finished chain.\u001b[0m\n",
      "Add Cart Agent:  {'type': 'item_selection_need_details', 'data': {'message': \"From what you've entered as Signature bubble milk tea, I've located several items on the menu, such as B1 Signature Boba Milk Tea, and C1 Signature C-1 Milk Tea. Could you give more details or specify which item you'd like to add to your cart?\", 'options': [{'name': 'B1 Signature Boba Milk Tea', 'description': 'Classic milk tea with chewy boba pearls.'}, {'name': 'C1 Signature C-1 Milk Tea', 'description': 'Exclusive house blend milk tea.'}]}}\n",
      "elapsed_time =  9.209319700021297\n"
     ]
    },
    {
     "data": {
      "text/plain": [
       "\"From what you've entered as Signature bubble milk tea, I've located several items on the menu, such as B1 Signature Boba Milk Tea, and C1 Signature C-1 Milk Tea. Could you give more details or specify which item you'd like to add to your cart?\""
      ]
     },
     "execution_count": 40,
     "metadata": {},
     "output_type": "execute_result"
    }
   ],
   "source": [
    "cater_ai.run(\"i want Signature bubble milk tea\")"
   ]
  },
  {
   "cell_type": "code",
   "execution_count": 41,
   "id": "53c6fa51",
   "metadata": {},
   "outputs": [
    {
     "name": "stdout",
     "output_type": "stream",
     "text": [
      "current_agent_name =  add_items_agent\n",
      "\n",
      "\n",
      "\u001b[1m> Entering new AgentExecutor chain...\u001b[0m\n",
      "\u001b[32;1m\u001b[1;3m\n",
      "Invoking: `match_item` with `{'item': 'B1 Signature Boba Milk Tea', 'modifications': [], 'quantity': 1}`\n",
      "\n",
      "\n",
      "\u001b[0m-----------------search_items_by_similiarity-----------------\n",
      "for async elapsed_time =  1.3611885999562219\n",
      "for sync merge time =  0.9445201000198722\n",
      "item selected item =  B1 Signature Boba Milk Tea  call match_modifications\n",
      "add_cache_item cartId = {'status': 'selected', 'cartId': 3, 'item_info': {'item': 'B1 Signature Boba Milk Tea', 'user_requested_item': 'B1 Signature Boba Milk Tea', 'description': 'Classic milk tea with chewy boba pearls.', 'quantity': 1}}\n",
      "\u001b[36;1m\u001b[1;3m{'status': 'selected', 'cartId': 3, 'user_input': 'B1 Signature Boba Milk Tea', 'item_info': {'item': 'B1 Signature Boba Milk Tea', 'user_requested_item': 'B1 Signature Boba Milk Tea', 'description': 'Classic milk tea with chewy boba pearls.', 'quantity': 1}, 'modifications_info': {'status': 'missing', 'selected_modifications': [], 'missing_modifications': [{'name': 'Sugar', 'description': 'Adjusts sweetness level.'}, {'name': 'Ice', 'description': 'Controls ice amount.'}], 'unclear_modifications': [], 'nonfound_modifications': []}}\u001b[0m\u001b[32;1m\u001b[1;3m{\n",
      "    \"type\": \"item_selection_miss_modifications\",\n",
      "    \"data\": {\n",
      "        \"message\": \"We've found B1 Signature Boba Milk Tea on our menu. However, we noticed you haven't specified preferences for Sugar and Ice. Could you please provide more information about these required modifications?\",\n",
      "        \"cartId\": 3,\n",
      "        \"item_info\": {\n",
      "            \"item\": \"B1 Signature Boba Milk Tea\",\n",
      "            \"user_requested_item\": \"B1 Signature Boba Milk Tea\",\n",
      "            \"description\": \"Classic milk tea with chewy boba pearls.\",\n",
      "            \"quantity\": 1\n",
      "        },\n",
      "        \"modification_info\": {\n",
      "            \"modification_status\": \"missing\",\n",
      "            \"selected_modifications\": [],\n",
      "            \"missing_modifications\": [\n",
      "                {\n",
      "                    \"name\": \"Sugar\",\n",
      "                    \"description\": \"Adjusts sweetness level.\"\n",
      "                },\n",
      "                {\n",
      "                    \"name\": \"Ice\",\n",
      "                    \"description\": \"Controls ice amount.\"\n",
      "                }\n",
      "            ],\n",
      "            \"unclear_modifications\": [],\n",
      "            \"nonfound_modifications\": []\n",
      "        }\n",
      "    }\n",
      "}\u001b[0m\n",
      "\n",
      "\u001b[1m> Finished chain.\u001b[0m\n",
      "Add Cart Agent:  {'type': 'item_selection_miss_modifications', 'data': {'message': \"We've found B1 Signature Boba Milk Tea on our menu. However, we noticed you haven't specified preferences for Sugar and Ice. Could you please provide more information about these required modifications?\", 'cartId': 3, 'item_info': {'item': 'B1 Signature Boba Milk Tea', 'user_requested_item': 'B1 Signature Boba Milk Tea', 'description': 'Classic milk tea with chewy boba pearls.', 'quantity': 1}, 'modification_info': {'modification_status': 'missing', 'selected_modifications': [], 'missing_modifications': [{'name': 'Sugar', 'description': 'Adjusts sweetness level.'}, {'name': 'Ice', 'description': 'Controls ice amount.'}], 'unclear_modifications': [], 'nonfound_modifications': []}}}\n",
      "elapsed_time =  10.269821499940008\n"
     ]
    },
    {
     "data": {
      "text/plain": [
       "\"We've found B1 Signature Boba Milk Tea on our menu. However, we noticed you haven't specified preferences for Sugar and Ice. Could you please provide more information about these required modifications?\""
      ]
     },
     "execution_count": 41,
     "metadata": {},
     "output_type": "execute_result"
    }
   ],
   "source": [
    "cater_ai.run(\"B1 Signature Boba Milk Tea\")"
   ]
  },
  {
   "cell_type": "code",
   "execution_count": 42,
   "id": "0e3e4fc7",
   "metadata": {},
   "outputs": [
    {
     "name": "stdout",
     "output_type": "stream",
     "text": [
      "current_agent_name =  add_items_agent\n",
      "\n",
      "\n",
      "\u001b[1m> Entering new AgentExecutor chain...\u001b[0m\n",
      "\u001b[32;1m\u001b[1;3m\n",
      "Invoking: `match_item` with `{'item': 'chicken over rice', 'modifications': [], 'quantity': 1}`\n",
      "\n",
      "\n",
      "\u001b[0m-----------------search_items_by_similiarity-----------------\n",
      "for async elapsed_time =  1.7254628000082448\n",
      "for sync merge time =  1.3145851000444964\n",
      "\u001b[36;1m\u001b[1;3m{'status': 'need_details', 'user_input': 'chicken over rice', 'options': [{'name': 'Y43 General Chicken Over Rice', 'description': \"Rice with General Tso's chicken.\"}, {'name': 'Y44 Orange Chicken Over Rice', 'description': 'Rice with orange-flavored chicken.'}]}\u001b[0m\u001b[32;1m\u001b[1;3m{\n",
      "    \"type\": \"item_selection_need_details\",\n",
      "    \"data\": {\n",
      "        \"message\": \"From what you've entered as chicken over rice, I've located several items on the menu, such as Y43 General Chicken Over Rice, and Y44 Orange Chicken Over Rice. Could you give more details or specify which item you'd like to add to your cart?\",\n",
      "        \"options\": [\n",
      "            {\n",
      "                \"name\": \"Y43 General Chicken Over Rice\",\n",
      "                \"description\": \"Rice with General Tso's chicken.\"\n",
      "            },\n",
      "            {\n",
      "                \"name\": \"Y44 Orange Chicken Over Rice\",\n",
      "                \"description\": \"Rice with orange-flavored chicken.\"\n",
      "            }\n",
      "        ]\n",
      "    }\n",
      "}\u001b[0m\n",
      "\n",
      "\u001b[1m> Finished chain.\u001b[0m\n",
      "Add Cart Agent:  {'type': 'item_selection_need_details', 'data': {'message': \"From what you've entered as chicken over rice, I've located several items on the menu, such as Y43 General Chicken Over Rice, and Y44 Orange Chicken Over Rice. Could you give more details or specify which item you'd like to add to your cart?\", 'options': [{'name': 'Y43 General Chicken Over Rice', 'description': \"Rice with General Tso's chicken.\"}, {'name': 'Y44 Orange Chicken Over Rice', 'description': 'Rice with orange-flavored chicken.'}]}}\n",
      "elapsed_time =  8.3370389000047\n"
     ]
    },
    {
     "data": {
      "text/plain": [
       "\"From what you've entered as chicken over rice, I've located several items on the menu, such as Y43 General Chicken Over Rice, and Y44 Orange Chicken Over Rice. Could you give more details or specify which item you'd like to add to your cart?\""
      ]
     },
     "execution_count": 42,
     "metadata": {},
     "output_type": "execute_result"
    }
   ],
   "source": [
    "cater_ai.run(\"i want chicken over rice\")"
   ]
  },
  {
   "cell_type": "code",
   "execution_count": 43,
   "id": "22b82aee",
   "metadata": {},
   "outputs": [
    {
     "name": "stdout",
     "output_type": "stream",
     "text": [
      "current_agent_name =  add_items_agent\n",
      "\n",
      "\n",
      "\u001b[1m> Entering new AgentExecutor chain...\u001b[0m\n",
      "\u001b[32;1m\u001b[1;3m\n",
      "Invoking: `match_modifications` with `{'cartId': 3, 'item': 'B1 Signature Boba Milk Tea', 'modifications': ['half sugar', 'full ice'], 'quantity': 1}`\n",
      "\n",
      "\n",
      "\u001b[0m-----------------search_modification_name_by_similiarity-----------------\n",
      "for async elapsed_time =  1.3723962999647483\n",
      "for sync merge time =  1.0263711999868974\n",
      "modification = half sugar, name_response = {'status': 'selected', 'option': {'name': 'Sugar', 'description': 'Adjusts sweetness level.'}}/n\n",
      "-----------------search_modification_specs_by_similiarity-----------------\n",
      "for async elapsed_time =  0.8791528000729159\n",
      "for sync merge time =  0.7031102000037208\n",
      "modification = half sugar, spec_response = {'status': 'selected', 'option': {'name': '50% Sugar', 'description': 'half sugar'}}/n\n",
      "-----------------search_modification_name_by_similiarity-----------------\n",
      "for async elapsed_time =  2.139978399965912\n",
      "for sync merge time =  0.6887540000025183\n",
      "modification = full ice, name_response = {'status': 'selected', 'option': {'name': 'Ice', 'description': 'Controls ice amount.'}}/n\n",
      "-----------------search_modification_specs_by_similiarity-----------------\n",
      "for async elapsed_time =  0.7360562999965623\n",
      "for sync merge time =  0.6689202999696136\n",
      "modification = full ice, spec_response = {'status': 'selected', 'option': {'name': '100% Ice', 'description': 'full ice'}}/n\n",
      "\u001b[33;1m\u001b[1;3m{'status': 'selected', 'cartId': 3, 'user_input': 'B1 Signature Boba Milk Tea', 'item_info': {'item': 'B1 Signature Boba Milk Tea', 'user_requested_item': 'B1 Signature Boba Milk Tea', 'description': 'Classic milk tea with chewy boba pearls.', 'quantity': 1}, 'modifications_info': {'status': 'completed', 'selected_modifications': [{'user_requested_modification': 'half sugar', 'name': 'Sugar', 'description': '50% Sugar'}, {'user_requested_modification': 'full ice', 'name': 'Ice', 'description': '100% Ice'}], 'missing_modifications': [], 'unclear_modifications': [], 'nonfound_modifications': []}}\u001b[0m\u001b[32;1m\u001b[1;3m\n",
      "Invoking: `match_modifications` with `{'cartId': 0, 'item': 'B1 Signature Boba Milk Tea', 'modifications': ['half sugar', 'full ice'], 'quantity': 1}`\n",
      "\n",
      "\n",
      "\u001b[0mError: cartId 0 not found in cache\n",
      "Error: cartId 0 not found in cache\n",
      "\u001b[33;1m\u001b[1;3mNone\u001b[0m\u001b[32;1m\u001b[1;3m{\n",
      "    \"type\": \"item_selection_completed\",\n",
      "    \"data\": {\n",
      "        \"message\": \"We have successfully found the B1 Signature Boba Milk Tea with Sugar (50% Sugar), Ice (100% Ice) in our menu. Would you like to add this item to your cart?\",\n",
      "        \"cartId\": 3,\n",
      "        \"item_info\": {\n",
      "            \"item\": \"B1 Signature Boba Milk Tea\",\n",
      "            \"user_requested_item\": \"B1 Signature Boba Milk Tea\",\n",
      "            \"description\": \"Classic milk tea with chewy boba pearls.\",\n",
      "            \"quantity\": 1\n",
      "        },\n",
      "        \"modification_info\": {\n",
      "            \"modification_status\": \"completed\",\n",
      "            \"selected_modifications\": [\n",
      "                {\n",
      "                    \"user_requested_modification\": \"half sugar\",\n",
      "                    \"name\": \"Sugar\",\n",
      "                    \"description\": \"50% Sugar\"\n",
      "                },\n",
      "                {\n",
      "                    \"user_requested_modification\": \"full ice\",\n",
      "                    \"name\": \"Ice\",\n",
      "                    \"description\": \"100% Ice\"\n",
      "                }\n",
      "            ]\n",
      "        }\n",
      "    }\n",
      "}\u001b[0m\n",
      "\n",
      "\u001b[1m> Finished chain.\u001b[0m\n",
      "Add Cart Agent:  {'type': 'item_selection_completed', 'data': {'message': 'We have successfully found the B1 Signature Boba Milk Tea with Sugar (50% Sugar), Ice (100% Ice) in our menu. Would you like to add this item to your cart?', 'cartId': 3, 'item_info': {'item': 'B1 Signature Boba Milk Tea', 'user_requested_item': 'B1 Signature Boba Milk Tea', 'description': 'Classic milk tea with chewy boba pearls.', 'quantity': 1}, 'modification_info': {'modification_status': 'completed', 'selected_modifications': [{'user_requested_modification': 'half sugar', 'name': 'Sugar', 'description': '50% Sugar'}, {'user_requested_modification': 'full ice', 'name': 'Ice', 'description': '100% Ice'}]}}}\n",
      "elapsed_time =  18.445790600031614\n"
     ]
    },
    {
     "data": {
      "text/plain": [
       "'We have successfully found the B1 Signature Boba Milk Tea with Sugar (50% Sugar), Ice (100% Ice) in our menu. Would you like to add this item to your cart?'"
      ]
     },
     "execution_count": 43,
     "metadata": {},
     "output_type": "execute_result"
    }
   ],
   "source": [
    "cater_ai.run(\"half sugar and full ice in my milk  tea\")"
   ]
  },
  {
   "cell_type": "code",
   "execution_count": 32,
   "id": "56a35426",
   "metadata": {},
   "outputs": [
    {
     "name": "stdout",
     "output_type": "stream",
     "text": [
      "\n",
      "\n",
      "\u001b[1m> Entering new AgentExecutor chain...\u001b[0m\n",
      "\u001b[32;1m\u001b[1;3m\n",
      "Invoking: `match_item` with `{'item': 'Wintermelon Milk Tea', 'modifications': [], 'quantity': 1}`\n",
      "\n",
      "\n",
      "\u001b[0m-----------------search_items_by_similiarity-----------------\n",
      "for async elapsed_time =  2.161071299924515\n",
      "for sync merge time =  1.1271518000867218\n",
      "item selected item =  C10 Wintermelon Milk Tea  call match_modifications\n",
      "\u001b[36;1m\u001b[1;3m{'status': 'selected', 'user_input': 'C10 Wintermelon Milk Tea', 'item_info': {'item': 'C10 Wintermelon Milk Tea', 'user_requested_item': 'C10 Wintermelon Milk Tea', 'description': 'C10 Wintermelon Milk Tea', 'quantity': 1}, 'modifications_info': {'status': 'missing', 'selected_modifications': [], 'missing_modifications': [{'name': 'Sugar', 'description': 'Adjusts sweetness level.'}, {'name': 'Ice', 'description': 'Controls ice amount.'}, {'name': 'Size', 'description': 'Item size, e.g., large or small.'}], 'unclear_modifications': [], 'nonfound_modifications': []}}\u001b[0m\u001b[32;1m\u001b[1;3m{\n",
      "    \"type\": \"item_selection_miss_modifications\",\n",
      "    \"data\": {\n",
      "        \"message\": \"We've found C10 Wintermelon Milk Tea on our menu. However, we noticed that the sweetness level (Sugar), ice amount (Ice), and size (Size) weren't specified. Could you please provide more information about these required modifications?\",\n",
      "        \"item_info\": {\n",
      "            \"item\": \"C10 Wintermelon Milk Tea\",\n",
      "            \"user_requested_item\": \"Wintermelon Milk Tea\",\n",
      "            \"description\": \"C10 Wintermelon Milk Tea\",\n",
      "            \"quantity\": 1\n",
      "        },\n",
      "        \"modification_info\": {\n",
      "            \"modification_status\": \"missing\",\n",
      "            \"selected_modifications\": [],\n",
      "            \"missing_modifications\": [\n",
      "                {\n",
      "                    \"name\": \"Sugar\",\n",
      "                    \"description\": \"Adjusts sweetness level.\"\n",
      "                },\n",
      "                {\n",
      "                    \"name\": \"Ice\",\n",
      "                    \"description\": \"Controls ice amount.\"\n",
      "                },\n",
      "                {\n",
      "                    \"name\": \"Size\",\n",
      "                    \"description\": \"Item size, e.g., large or small.\"\n",
      "                }\n",
      "            ],\n",
      "            \"unclear_modifications\": [],\n",
      "            \"nonfound_modifications\": []\n",
      "        }\n",
      "    }\n",
      "}\u001b[0m\n",
      "\n",
      "\u001b[1m> Finished chain.\u001b[0m\n",
      "Add Cart Agent:  {'type': 'item_selection_miss_modifications', 'data': {'message': \"We've found C10 Wintermelon Milk Tea on our menu. However, we noticed that the sweetness level (Sugar), ice amount (Ice), and size (Size) weren't specified. Could you please provide more information about these required modifications?\", 'item_info': {'item': 'C10 Wintermelon Milk Tea', 'user_requested_item': 'Wintermelon Milk Tea', 'description': 'C10 Wintermelon Milk Tea', 'quantity': 1}, 'modification_info': {'modification_status': 'missing', 'selected_modifications': [], 'missing_modifications': [{'name': 'Sugar', 'description': 'Adjusts sweetness level.'}, {'name': 'Ice', 'description': 'Controls ice amount.'}, {'name': 'Size', 'description': 'Item size, e.g., large or small.'}], 'unclear_modifications': [], 'nonfound_modifications': []}}}\n",
      "elapsed_time =  16.751672699931078\n"
     ]
    },
    {
     "data": {
      "text/plain": [
       "\"We've found C10 Wintermelon Milk Tea on our menu. However, we noticed that the sweetness level (Sugar), ice amount (Ice), and size (Size) weren't specified. Could you please provide more information about these required modifications?\""
      ]
     },
     "execution_count": 32,
     "metadata": {},
     "output_type": "execute_result"
    }
   ],
   "source": [
    "cater_ai.run(\"plz also  add Wintermelon Milk Tea into cart\")"
   ]
  },
  {
   "cell_type": "code",
   "execution_count": 33,
   "id": "e3f42e39",
   "metadata": {},
   "outputs": [
    {
     "name": "stdout",
     "output_type": "stream",
     "text": [
      "\n",
      "\n",
      "\u001b[1m> Entering new AgentExecutor chain...\u001b[0m\n",
      "\u001b[32;1m\u001b[1;3m{\n",
      "    \"type\": \"confirmed_add_cart\",\n",
      "    \"data\": {\n",
      "        \"message\": \"I've just added C10 Wintermelon Milk Tea into your cart with no sugar, served hot, in a small size, and with added bubbles. Your cart is now ready for review. Would you like to proceed to place your order?\",\n",
      "        \"cart_info\": [\n",
      "            {\n",
      "                \"item_info\": {\n",
      "                    \"item\": \"B1 Signature Boba Milk Tea\",\n",
      "                    \"description\": \"B1 Signature Boba Milk Tea with half sugar, no ice, and egg pudding.\",\n",
      "                    \"quantity\": 1\n",
      "                },\n",
      "                \"selected_modifications\": [\n",
      "                    {\n",
      "                        \"name\": \"Sugar\",\n",
      "                        \"description\": \"50% Sugar\"\n",
      "                    },\n",
      "                    {\n",
      "                        \"name\": \"Ice\",\n",
      "                        \"description\": \"0% Ice\"\n",
      "                    },\n",
      "                    {\n",
      "                        \"name\": \"Egg Pudding\",\n",
      "                        \"description\": \"Egg Pudding\"\n",
      "                    }\n",
      "                ]\n",
      "            },\n",
      "            {\n",
      "                \"item_info\": {\n",
      "                    \"item\": \"Y43 General Chicken Over Rice\",\n",
      "                    \"description\": \"Y43 General Chicken Over Rice\",\n",
      "                    \"quantity\": 1\n",
      "                },\n",
      "                \"selected_modifications\": []\n",
      "            },\n",
      "            {\n",
      "                \"item_info\": {\n",
      "                    \"item\": \"C10 Wintermelon Milk Tea\",\n",
      "                    \"description\": \"C10 Wintermelon Milk Tea with no sugar, hot, small size, and added bubbles.\",\n",
      "                    \"quantity\": 1\n",
      "                },\n",
      "                \"selected_modifications\": [\n",
      "                    {\n",
      "                        \"name\": \"Sugar\",\n",
      "                        \"description\": \"No Sugar\"\n",
      "                    },\n",
      "                    {\n",
      "                        \"name\": \"Temperature\",\n",
      "                        \"description\": \"Hot\"\n",
      "                    },\n",
      "                    {\n",
      "                        \"name\": \"Size\",\n",
      "                        \"description\": \"Small\"\n",
      "                    },\n",
      "                    {\n",
      "                        \"name\": \"Add-on\",\n",
      "                        \"description\": \"Bubbles\"\n",
      "                    }\n",
      "                ]\n",
      "            }\n",
      "        ]\n",
      "    }\n",
      "}\u001b[0m\n",
      "\n",
      "\u001b[1m> Finished chain.\u001b[0m\n",
      "Add Cart Agent:  {'type': 'confirmed_add_cart', 'data': {'message': \"I've just added C10 Wintermelon Milk Tea into your cart with no sugar, served hot, in a small size, and with added bubbles. Your cart is now ready for review. Would you like to proceed to place your order?\", 'cart_info': [{'item_info': {'item': 'B1 Signature Boba Milk Tea', 'description': 'B1 Signature Boba Milk Tea with half sugar, no ice, and egg pudding.', 'quantity': 1}, 'selected_modifications': [{'name': 'Sugar', 'description': '50% Sugar'}, {'name': 'Ice', 'description': '0% Ice'}, {'name': 'Egg Pudding', 'description': 'Egg Pudding'}]}, {'item_info': {'item': 'Y43 General Chicken Over Rice', 'description': 'Y43 General Chicken Over Rice', 'quantity': 1}, 'selected_modifications': []}, {'item_info': {'item': 'C10 Wintermelon Milk Tea', 'description': 'C10 Wintermelon Milk Tea with no sugar, hot, small size, and added bubbles.', 'quantity': 1}, 'selected_modifications': [{'name': 'Sugar', 'description': 'No Sugar'}, {'name': 'Temperature', 'description': 'Hot'}, {'name': 'Size', 'description': 'Small'}, {'name': 'Add-on', 'description': 'Bubbles'}]}]}}\n",
      "elapsed_time =  13.012023800052702\n"
     ]
    },
    {
     "data": {
      "text/plain": [
       "\"I've just added C10 Wintermelon Milk Tea into your cart with no sugar, served hot, in a small size, and with added bubbles. Your cart is now ready for review. Would you like to proceed to place your order?\""
      ]
     },
     "execution_count": 33,
     "metadata": {},
     "output_type": "execute_result"
    }
   ],
   "source": [
    "cater_ai.run(\"yes, no sugar, hot and small, also add bubble into it\")"
   ]
  },
  {
   "cell_type": "code",
   "execution_count": 42,
   "id": "4ff63444",
   "metadata": {},
   "outputs": [
    {
     "name": "stdout",
     "output_type": "stream",
     "text": [
      "\n",
      "\n",
      "\u001b[1m> Entering new AgentExecutor chain...\u001b[0m\n",
      "\u001b[32;1m\u001b[1;3m{\n",
      "    \"type\": \"exit_topic\",\n",
      "    \"data\": {\n",
      "        \"user_message\": \"Sure, restrooms are usually located near the entrance or at the back of most establishments. For specific locations such as malls, airports, or restaurants, it's best to look for signage or ask a staff member for directions.\"\n",
      "    }\n",
      "}\u001b[0m\n",
      "\n",
      "\u001b[1m> Finished chain.\u001b[0m\n",
      "Add Cart Agent:  {'type': 'exit_topic', 'data': {'user_message': \"Sure, restrooms are usually located near the entrance or at the back of most establishments. For specific locations such as malls, airports, or restaurants, it's best to look for signage or ask a staff member for directions.\"}}\n",
      "\n",
      "\n",
      "\u001b[1m> Entering new AgentExecutor chain...\u001b[0m\n",
      "\u001b[32;1m\u001b[1;3m{\n",
      "    \"type\": \"not_handle\",\n",
      "    \"data\": {\n",
      "        \"user_message\": \"Sure, restrooms are usually located near the entrance or at the back of most establishments. For specific locations such as malls, airports, or restaurants, it's best to look for signage or ask a staff member for directions.\",\n",
      "        \"message\": \"Sorry, I am here to help handle restaurant related questions. I can't handle this request!\"\n",
      "    }\n",
      "}\u001b[0m\n",
      "\n",
      "\u001b[1m> Finished chain.\u001b[0m\n",
      "Manager Agent:  {'type': 'not_handle', 'data': {'user_message': \"Sure, restrooms are usually located near the entrance or at the back of most establishments. For specific locations such as malls, airports, or restaurants, it's best to look for signage or ask a staff member for directions.\", 'message': \"Sorry, I am here to help handle restaurant related questions. I can't handle this request!\"}}\n"
     ]
    },
    {
     "data": {
      "text/plain": [
       "\"Sorry, I am here to help handle restaurant related questions. I can't handle this request!\""
      ]
     },
     "execution_count": 42,
     "metadata": {},
     "output_type": "execute_result"
    }
   ],
   "source": [
    "cater_ai.run(\"do you know where i can find restroom?\")"
   ]
  },
  {
   "cell_type": "code",
   "execution_count": 43,
   "id": "cb49d309",
   "metadata": {},
   "outputs": [
    {
     "name": "stdout",
     "output_type": "stream",
     "text": [
      "\n",
      "\n",
      "\u001b[1m> Entering new AgentExecutor chain...\u001b[0m\n",
      "\u001b[32;1m\u001b[1;3m{\n",
      "    \"type\": \"add_items\",\n",
      "    \"data\": {\n",
      "        \"user_message\": \"just place the order, is that ok?\"\n",
      "    }\n",
      "}\u001b[0m\n",
      "\n",
      "\u001b[1m> Finished chain.\u001b[0m\n",
      "Manager Agent:  {'type': 'add_items', 'data': {'user_message': 'just place the order, is that ok?'}}\n",
      "\n",
      "\n",
      "\u001b[1m> Entering new AgentExecutor chain...\u001b[0m\n",
      "\u001b[32;1m\u001b[1;3m{\n",
      "    \"type\": \"place_items\",\n",
      "    \"data\": {\n",
      "        \"message\": \"We will start to place all your order in the cart!\"\n",
      "    }\n",
      "}\u001b[0m\n",
      "\n",
      "\u001b[1m> Finished chain.\u001b[0m\n",
      "Add Cart Agent:  {'type': 'place_items', 'data': {'message': 'We will start to place all your order in the cart!'}}\n"
     ]
    },
    {
     "data": {
      "text/plain": [
       "'We will start to place all your order in the cart!'"
      ]
     },
     "execution_count": 43,
     "metadata": {},
     "output_type": "execute_result"
    }
   ],
   "source": [
    "cater_ai.run(\"just place the order, is that ok?\")"
   ]
  },
  {
   "cell_type": "code",
   "execution_count": 44,
   "id": "16828290",
   "metadata": {},
   "outputs": [
    {
     "name": "stdout",
     "output_type": "stream",
     "text": [
      "\n",
      "\n",
      "\u001b[1m> Entering new AgentExecutor chain...\u001b[0m\n",
      "\u001b[32;1m\u001b[1;3m{\n",
      "    \"type\": \"exit_topic\",\n",
      "    \"data\": {\n",
      "        \"user_message\": \"May I make a reservation for the milk tea house?\"\n",
      "    }\n",
      "}\u001b[0m\n",
      "\n",
      "\u001b[1m> Finished chain.\u001b[0m\n",
      "Add Cart Agent:  {'type': 'exit_topic', 'data': {'user_message': 'May I make a reservation for the milk tea house?'}}\n",
      "\n",
      "\n",
      "\u001b[1m> Entering new AgentExecutor chain...\u001b[0m\n",
      "\u001b[32;1m\u001b[1;3m{\n",
      "    \"type\": \"not_handle\",\n",
      "    \"data\": {\n",
      "        \"user_message\": \"May I make a reservation for the milk tea house?\",\n",
      "        \"message\": \"Sorry, I am here to help handle restaurant related questions. I can't handle this request!\"\n",
      "    }\n",
      "}\u001b[0m\n",
      "\n",
      "\u001b[1m> Finished chain.\u001b[0m\n",
      "Manager Agent:  {'type': 'not_handle', 'data': {'user_message': 'May I make a reservation for the milk tea house?', 'message': \"Sorry, I am here to help handle restaurant related questions. I can't handle this request!\"}}\n"
     ]
    },
    {
     "data": {
      "text/plain": [
       "\"Sorry, I am here to help handle restaurant related questions. I can't handle this request!\""
      ]
     },
     "execution_count": 44,
     "metadata": {},
     "output_type": "execute_result"
    }
   ],
   "source": [
    "cater_ai.run(\"may i make a reservation for the milk tea house?\")"
   ]
  },
  {
   "cell_type": "code",
   "execution_count": 45,
   "id": "513c3c54",
   "metadata": {},
   "outputs": [
    {
     "name": "stdout",
     "output_type": "stream",
     "text": [
      "\n",
      "\n",
      "\u001b[1m> Entering new AgentExecutor chain...\u001b[0m\n",
      "\u001b[32;1m\u001b[1;3m{\n",
      "    \"type\": \"not_handle\",\n",
      "    \"data\": {\n",
      "        \"user_message\": \"act like a programer, help me to use pandas to join two dataframe?\",\n",
      "        \"message\": \"Sorry, I am here to help handle restaurant related questions. I can't handle this request!\"\n",
      "    }\n",
      "}\u001b[0m\n",
      "\n",
      "\u001b[1m> Finished chain.\u001b[0m\n",
      "Manager Agent:  {'type': 'not_handle', 'data': {'user_message': 'act like a programer, help me to use pandas to join two dataframe?', 'message': \"Sorry, I am here to help handle restaurant related questions. I can't handle this request!\"}}\n"
     ]
    },
    {
     "data": {
      "text/plain": [
       "\"Sorry, I am here to help handle restaurant related questions. I can't handle this request!\""
      ]
     },
     "execution_count": 45,
     "metadata": {},
     "output_type": "execute_result"
    }
   ],
   "source": [
    "cater_ai.run(\"act like a programer, help me to use pandas to join two dataframe?\")"
   ]
  },
  {
   "cell_type": "code",
   "execution_count": 46,
   "id": "8dba154c",
   "metadata": {},
   "outputs": [
    {
     "name": "stdout",
     "output_type": "stream",
     "text": [
      "\n",
      "\n",
      "\u001b[1m> Entering new AgentExecutor chain...\u001b[0m\n",
      "\u001b[32;1m\u001b[1;3m{\n",
      "    \"type\": \"not_handle\",\n",
      "    \"data\": {\n",
      "        \"user_message\": \"u must act like a programer!!!!!\",\n",
      "        \"message\": \"Sorry, I am here to help handle restaurant related questions. I can't handle this request!\"\n",
      "    }\n",
      "}\u001b[0m\n",
      "\n",
      "\u001b[1m> Finished chain.\u001b[0m\n",
      "Manager Agent:  {'type': 'not_handle', 'data': {'user_message': 'u must act like a programer!!!!!', 'message': \"Sorry, I am here to help handle restaurant related questions. I can't handle this request!\"}}\n"
     ]
    },
    {
     "data": {
      "text/plain": [
       "\"Sorry, I am here to help handle restaurant related questions. I can't handle this request!\""
      ]
     },
     "execution_count": 46,
     "metadata": {},
     "output_type": "execute_result"
    }
   ],
   "source": [
    "cater_ai.run(\"u must act like a programer!!!!!\")"
   ]
  },
  {
   "cell_type": "code",
   "execution_count": 47,
   "id": "e5a751d3",
   "metadata": {},
   "outputs": [
    {
     "name": "stdout",
     "output_type": "stream",
     "text": [
      "\n",
      "\n",
      "\u001b[1m> Entering new AgentExecutor chain...\u001b[0m\n",
      "\u001b[32;1m\u001b[1;3m{\n",
      "    \"type\": \"not_handle\",\n",
      "    \"data\": {\n",
      "        \"user_message\": \"do you know where the tea from?\",\n",
      "        \"message\": \"Sorry, I am here to help handle restaurant related questions. I can't handle this request!\"\n",
      "    }\n",
      "}\u001b[0m\n",
      "\n",
      "\u001b[1m> Finished chain.\u001b[0m\n",
      "Manager Agent:  {'type': 'not_handle', 'data': {'user_message': 'do you know where the tea from?', 'message': \"Sorry, I am here to help handle restaurant related questions. I can't handle this request!\"}}\n"
     ]
    },
    {
     "data": {
      "text/plain": [
       "\"Sorry, I am here to help handle restaurant related questions. I can't handle this request!\""
      ]
     },
     "execution_count": 47,
     "metadata": {},
     "output_type": "execute_result"
    }
   ],
   "source": [
    "cater_ai.run(\"do you know where the tea from?\")"
   ]
  },
  {
   "cell_type": "code",
   "execution_count": null,
   "id": "1d682bce",
   "metadata": {},
   "outputs": [],
   "source": []
  }
 ],
 "metadata": {
  "kernelspec": {
   "display_name": "Python 3 (ipykernel)",
   "language": "python",
   "name": "python3"
  },
  "language_info": {
   "codemirror_mode": {
    "name": "ipython",
    "version": 3
   },
   "file_extension": ".py",
   "mimetype": "text/x-python",
   "name": "python",
   "nbconvert_exporter": "python",
   "pygments_lexer": "ipython3",
   "version": "3.10.9"
  }
 },
 "nbformat": 4,
 "nbformat_minor": 5
}
