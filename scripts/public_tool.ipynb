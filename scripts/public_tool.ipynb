{
 "cells": [
  {
   "cell_type": "code",
   "execution_count": 1,
   "id": "f358df35",
   "metadata": {},
   "outputs": [],
   "source": [
    "%load_ext autoreload\n",
    "%autoreload 2\n",
    "\n",
    "import sys\n",
    "sys.path.append(\"C:/Users/yuezo/OneDrive/桌面/project/cater-ai-agents/models/Channel_Tools\")\n",
    "\n",
    "import nest_asyncio\n",
    "from Public_Tools_v2 import *\n",
    "import os\n",
    "nest_asyncio.apply()\n",
    "\n",
    "os.environ[\"LANGCHAIN_TRACING_V2\"] = \"true\"\n",
    "os.environ[\"LANGCHAIN_API_KEY\"] = \"ls__e33af7b422394942b1ca565215fd1b92\"\n",
    "os.environ[\"OPENAI_API_KEY\"] = \"sk-proj-ZTDqjSnvRZvNPIodhtrVT3BlbkFJmmAh9jhzlOOiAinYm4FX\""
   ]
  },
  {
   "cell_type": "code",
   "execution_count": 2,
   "id": "80ce06c5",
   "metadata": {},
   "outputs": [
    {
     "data": {
      "text/plain": [
       "<Public_Tools_v2.Public_Tools at 0x22be1eba470>"
      ]
     },
     "execution_count": 2,
     "metadata": {},
     "output_type": "execute_result"
    }
   ],
   "source": [
    "pt = Public_Tools(\"C:/Users/yuezo/OneDrive/桌面/project/cater-ai-agents/scripts/example.cfg\")\n",
    "pt"
   ]
  },
  {
   "cell_type": "code",
   "execution_count": 5,
   "id": "73d8973a",
   "metadata": {},
   "outputs": [
    {
     "name": "stdout",
     "output_type": "stream",
     "text": [
      "-----------------search_items_by_similiarity-----------------\n",
      "for async elapsed_time =  4.523706900188699\n",
      "for sync merge time =  8.399094199994579\n"
     ]
    },
    {
     "data": {
      "text/plain": [
       "{'type': 'match_item',\n",
       " 'message': '',\n",
       " 'status': 'need_details',\n",
       " 'data': {'user_input': 'bubble tea',\n",
       "  'selected_item': {},\n",
       "  'options': [{'name': 'B1 Signature Boba Milk Tea',\n",
       "    'description': 'Classic milk tea with chewy boba pearls.'},\n",
       "   {'name': 'B4 Tofuhua & Red Bean Milk Tea',\n",
       "    'description': 'Milk tea with silky tofu dessert and sweet red beans.'}]}}"
      ]
     },
     "execution_count": 5,
     "metadata": {},
     "output_type": "execute_result"
    }
   ],
   "source": [
    "response = pt.match_item(\"bubble tea\", [], 1)\n",
    "response"
   ]
  },
  {
   "cell_type": "code",
   "execution_count": 6,
   "id": "59005038",
   "metadata": {},
   "outputs": [
    {
     "name": "stdout",
     "output_type": "stream",
     "text": [
      "-----------------search_items_by_similiarity-----------------\n",
      "for async elapsed_time =  1.6971040000207722\n",
      "for sync merge time =  1.2505580000579357\n",
      "add_cache_item cartId = {'cartId': 2, 'item_info': {'item': 'B1 Signature Boba Milk Tea', 'description': 'Classic milk tea with chewy boba pearls.', 'quantity': 1}, 'modifications_info': {}}\n",
      "item selected item =  B1 Signature Boba Milk Tea  call match_modifications\n",
      "-----------------search_modification_name_by_similiarity-----------------\n",
      "for async elapsed_time =  1.0735986998770386\n",
      "modification = no sugar, name_response = {'status': 'selected', 'option': {'name': 'Sugar', 'description': 'Adjusts sweetness level.'}}/n\n",
      "-----------------search_modification_specs_by_similiarity-----------------\n",
      "for async elapsed_time =  0.9472135999239981\n",
      "for sync merge time =  0.9620391000062227\n",
      "modification = no sugar, spec_response = {'status': 'selected', 'option': {'name': '0% Sugar', 'description': 'No sugar'}}/n\n"
     ]
    },
    {
     "data": {
      "text/plain": [
       "{'type': 'match_item',\n",
       " 'message': '',\n",
       " 'status': 'selected',\n",
       " 'data': {'user_input': 'B1 Signature Boba Milk Tea',\n",
       "  'selected_item': {'cartId': 2,\n",
       "   'item_info': {'item': 'B1 Signature Boba Milk Tea',\n",
       "    'description': 'Classic milk tea with chewy boba pearls.',\n",
       "    'quantity': 1},\n",
       "   'modifications_info': {'status': 'missing',\n",
       "    'selected_modifications': [{'user_requested_modification': 'no sugar',\n",
       "      'name': 'Sugar',\n",
       "      'description': '0% Sugar'}],\n",
       "    'missing_modifications': [{'name': 'Ice',\n",
       "      'description': 'Controls ice amount.'}],\n",
       "    'unclear_modifications': [],\n",
       "    'nonfound_modifications': []}},\n",
       "  'options': []}}"
      ]
     },
     "execution_count": 6,
     "metadata": {},
     "output_type": "execute_result"
    }
   ],
   "source": [
    "response = pt.match_item('B1 Signature Boba Milk Tea', [\"no sugar\"], 1)\n",
    "response"
   ]
  },
  {
   "cell_type": "code",
   "execution_count": 10,
   "id": "ffacd56b",
   "metadata": {},
   "outputs": [
    {
     "name": "stdout",
     "output_type": "stream",
     "text": [
      "-----------------search_modification_name_by_similiarity-----------------\n",
      "for async elapsed_time =  3.4111265998799354\n",
      "for sync merge time =  1.1480205000843853\n",
      "modification = ice, name_response = {'status': 'selected', 'option': {'name': 'Ice', 'description': 'Controls ice amount.'}}/n\n",
      "-----------------search_modification_specs_by_similiarity-----------------\n",
      "for async elapsed_time =  3.195793200051412\n",
      "for sync merge time =  3.6023657000623643\n",
      "modification = ice, spec_response = {'status': 'need_details', 'options': [{'name': '0% Ice', 'description': 'No ice'}, {'name': '100% Ice', 'description': 'full ice'}]}/n\n"
     ]
    }
   ],
   "source": [
    "response = pt.match_modifications(1, 'B1 Signature Boba Milk Tea', [\"ice\"], 1)"
   ]
  },
  {
   "cell_type": "code",
   "execution_count": 12,
   "id": "1cf683fb",
   "metadata": {},
   "outputs": [
    {
     "data": {
      "text/plain": [
       "{'cartId': 1,\n",
       " 'status': 'completed',\n",
       " 'item_info': {'item': 'B1 Signature Boba Milk Tea',\n",
       "  'description': 'Classic milk tea with chewy boba pearls.',\n",
       "  'quantity': 1},\n",
       " 'modifications_info': {'status': 'missing',\n",
       "  'selected_modifications': [],\n",
       "  'missing_modifications': [{'name': 'Sugar',\n",
       "    'description': 'Adjusts sweetness level.'},\n",
       "   {'name': 'Ice', 'description': 'Controls ice amount.'}],\n",
       "  'unclear_modifications': [{'user_requested_modification': 'ice',\n",
       "    'modification_options': [{'name': '0% Ice', 'description': 'No ice'},\n",
       "     {'name': '100% Ice', 'description': 'full ice'}]}],\n",
       "  'nonfound_modifications': []}}"
      ]
     },
     "execution_count": 12,
     "metadata": {},
     "output_type": "execute_result"
    }
   ],
   "source": [
    "response['data']['selected_item']"
   ]
  },
  {
   "cell_type": "code",
   "execution_count": 9,
   "id": "1b26bc7c",
   "metadata": {},
   "outputs": [
    {
     "name": "stdout",
     "output_type": "stream",
     "text": [
      "-----------------search_modification_name_by_similiarity-----------------\n",
      "for async elapsed_time =  6.725610800087452\n",
      "for sync merge time =  1.0332823998760432\n",
      "modification = ice, name_response = {'status': 'selected', 'option': {'name': 'Ice', 'description': 'Controls ice amount.'}}/n\n",
      "-----------------search_modification_specs_by_similiarity-----------------\n",
      "for async elapsed_time =  2.901162900030613\n",
      "for sync merge time =  2.938572800019756\n",
      "modification = ice, spec_response = {'status': 'need_details', 'options': [{'name': '0% Ice', 'description': 'No ice'}, {'name': '100% Ice', 'description': 'full ice'}]}/n\n"
     ]
    }
   ],
   "source": [
    "response = pt.match_modifications(1, 'B1 Signature Boba Milk Tea', [\"ice\"], 1)"
   ]
  },
  {
   "cell_type": "code",
   "execution_count": null,
   "id": "fd037b35",
   "metadata": {},
   "outputs": [],
   "source": []
  }
 ],
 "metadata": {
  "kernelspec": {
   "display_name": "Python 3 (ipykernel)",
   "language": "python",
   "name": "python3"
  },
  "language_info": {
   "codemirror_mode": {
    "name": "ipython",
    "version": 3
   },
   "file_extension": ".py",
   "mimetype": "text/x-python",
   "name": "python",
   "nbconvert_exporter": "python",
   "pygments_lexer": "ipython3",
   "version": "3.10.9"
  }
 },
 "nbformat": 4,
 "nbformat_minor": 5
}
