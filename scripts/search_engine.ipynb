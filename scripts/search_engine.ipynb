{
 "cells": [
  {
   "cell_type": "code",
   "execution_count": 36,
   "id": "940651e6",
   "metadata": {},
   "outputs": [
    {
     "name": "stdout",
     "output_type": "stream",
     "text": [
      "The autoreload extension is already loaded. To reload it, use:\n",
      "  %reload_ext autoreload\n"
     ]
    }
   ],
   "source": [
    "%load_ext autoreload\n",
    "%autoreload 2\n",
    "\n",
    "import sys\n",
    "sys.path.append(\"C:/Users/yuezo/OneDrive/桌面/project/cater-ai-agents/models/LCEL_agent\")\n",
    "sys.path.append(\"C:/Users/yuezo/OneDrive/桌面/project/cater-ai-agents/models/LCEL_engine\")\n",
    "sys.path.append(\"C:/Users/yuezo/OneDrive/桌面/project/cater-ai-agents/models/Menu_Retriever\")\n",
    "import nest_asyncio\n",
    "from manger_agent import *\n",
    "from search_engine import *\n",
    "from search_engine import *\n",
    "from menu_retriever import *\n",
    "from cater_AI import *\n",
    "import os\n",
    "nest_asyncio.apply()\n",
    "\n",
    "os.environ[\"LANGCHAIN_TRACING_V2\"] = \"true\"\n",
    "os.environ[\"LANGCHAIN_API_KEY\"] = \"ls__e33af7b422394942b1ca565215fd1b92\"\n",
    "os.environ[\"OPENAI_API_KEY\"] = \"sk-proj-AlzmJmyqlP3OQ0J8C72BT3BlbkFJRGzI1k47rj0QDWF790U7\""
   ]
  },
  {
   "cell_type": "code",
   "execution_count": 37,
   "id": "d67809ff",
   "metadata": {},
   "outputs": [],
   "source": [
    "config_path = \"C:/Users/yuezo/OneDrive/桌面/project/cater-ai-agents/scripts/example.cfg\"\n",
    "menu_load = Menu_Loading(config_path)\n",
    "search_engine = SearchEngine(menu_load, config_path)"
   ]
  },
  {
   "cell_type": "code",
   "execution_count": 38,
   "id": "5407e7eb",
   "metadata": {},
   "outputs": [
    {
     "name": "stdout",
     "output_type": "stream",
     "text": [
      "-----------------recommend_items_by_perference-----------------\n",
      "for async elapsed_time =  5.470945600070991\n",
      "for sync merge time =  4.196363199967891\n",
      "elapsed_time =  9.668130400008522\n"
     ]
    },
    {
     "data": {
      "text/plain": [
       "{'status': 'need_details',\n",
       " 'options': [{'name': 'B1 Signature Boba Milk Tea',\n",
       "   'description': 'Classic milk tea with chewy boba pearls.'},\n",
       "  {'name': 'B2 Milk Tea w/ Pudding',\n",
       "   'description': 'Creamy milk tea served with soft pudding.'},\n",
       "  {'name': 'B3 Milk Tea w/ Grass Jelly',\n",
       "   'description': 'Milk tea accompanied by refreshing grass jelly.'},\n",
       "  {'name': 'B4 Tofuhua & Red Bean Milk Tea',\n",
       "   'description': 'Milk tea with silky tofu dessert and sweet red beans.'},\n",
       "  {'name': 'B5 3G Milk Tea',\n",
       "   'description': 'Milk tea with a mix of grass jelly, guar gum, and gelatin.'}]}"
      ]
     },
     "execution_count": 38,
     "metadata": {},
     "output_type": "execute_result"
    }
   ],
   "source": [
    "start_time = time.perf_counter()\n",
    "contents = search_engine.recommend_items_by_perference(\"bubble tea\")\n",
    "end_time = time.perf_counter()\n",
    "elapsed_time = end_time - start_time\n",
    "print(\"elapsed_time = \", elapsed_time)\n",
    "contents\n"
   ]
  },
  {
   "cell_type": "code",
   "execution_count": null,
   "id": "aba57691",
   "metadata": {},
   "outputs": [],
   "source": []
  }
 ],
 "metadata": {
  "kernelspec": {
   "display_name": "Python 3 (ipykernel)",
   "language": "python",
   "name": "python3"
  },
  "language_info": {
   "codemirror_mode": {
    "name": "ipython",
    "version": 3
   },
   "file_extension": ".py",
   "mimetype": "text/x-python",
   "name": "python",
   "nbconvert_exporter": "python",
   "pygments_lexer": "ipython3",
   "version": "3.10.9"
  }
 },
 "nbformat": 4,
 "nbformat_minor": 5
}
